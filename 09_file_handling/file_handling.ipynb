{
 "cells": [
  {
   "cell_type": "markdown",
   "id": "b2fe4bb1",
   "metadata": {},
   "source": [
    "# Lecture 9: File Handling\n",
    "- reading text files (.txt)\n",
    "    - read the file to VSC \n",
    "    - clean contents\n",
    "    - write clean contents to a new text file\n",
    "- focus here now are now text/string contents"
   ]
  },
  {
   "cell_type": "markdown",
   "id": "1db742c2",
   "metadata": {},
   "source": [
    "### Reading files\n",
    "#### Choice 1: Open the file directly\n",
    "using the normal navigation to open a file we just created called `test.txt`"
   ]
  },
  {
   "cell_type": "code",
   "execution_count": 17,
   "id": "7d441678",
   "metadata": {},
   "outputs": [
    {
     "name": "stdout",
     "output_type": "stream",
     "text": [
      "<_io.TextIOWrapper name='test.txt' mode='r' encoding='cp1252'>\n",
      "random\n",
      "text\n",
      "file\n"
     ]
    }
   ],
   "source": [
    "# \"test.txt\" is in the 09_file_handling so only need to write \"test.txt\"\n",
    "# otherwise, if outside the file opened, need to write the whole path (another course)\n",
    "\n",
    "f = open(\"test.txt\", \"r\") # 1st argument = path, 2nd argument = read file, \n",
    "print(f)  # f is just an open file, no contents shown\n",
    "\n",
    "# save contents of file in a variable\n",
    "#read method to open the contents\n",
    "text = f.read()    \n",
    "print(text)\n",
    "\n",
    "# recommended and important in python is to close the file to avoid crashing the file\n",
    "f.close()"
   ]
  },
  {
   "cell_type": "markdown",
   "id": "af415a7c",
   "metadata": {},
   "source": []
  },
  {
   "cell_type": "markdown",
   "id": "fb494384",
   "metadata": {},
   "source": [
    "#### Choice 2: Open the file with `with` statement"
   ]
  },
  {
   "cell_type": "code",
   "execution_count": 18,
   "id": "68d65f42",
   "metadata": {},
   "outputs": [
    {
     "name": "stdout",
     "output_type": "stream",
     "text": [
      "random\n",
      "text\n",
      "file\n"
     ]
    }
   ],
   "source": [
    "with open (\"test.txt\", \"r\",) as f:\n",
    "    text = f.read()\n",
    "    # with statement will close the file automatically\n",
    "\n",
    "print(text)"
   ]
  },
  {
   "cell_type": "code",
   "execution_count": 19,
   "id": "a6436c86",
   "metadata": {},
   "outputs": [
    {
     "data": {
      "text/plain": [
       "'random\\ntext\\nfile'"
      ]
     },
     "execution_count": 19,
     "metadata": {},
     "output_type": "execute_result"
    }
   ],
   "source": [
    "text"
   ]
  },
  {
   "cell_type": "markdown",
   "id": "c18b2edc",
   "metadata": {},
   "source": [
    "<br>"
   ]
  },
  {
   "cell_type": "markdown",
   "id": "e443686a",
   "metadata": {},
   "source": [
    "### Clean the quotes file\n",
    "08/10 lecture file handling from a messier file"
   ]
  },
  {
   "cell_type": "code",
   "execution_count": 20,
   "id": "2892d4c5",
   "metadata": {},
   "outputs": [],
   "source": [
    "# regular expression - for cleaning and manipulating string, we need to fnd patterns\n",
    "import re"
   ]
  },
  {
   "cell_type": "code",
   "execution_count": 21,
   "id": "8b691154",
   "metadata": {},
   "outputs": [],
   "source": [
    "# create an empty list for saving codes\n",
    "quotes = []\n",
    "\n",
    "# initiate a quote number\n",
    "i = 1\n"
   ]
  },
  {
   "cell_type": "code",
   "execution_count": 22,
   "id": "b97a7142",
   "metadata": {},
   "outputs": [
    {
     "name": "stdout",
     "output_type": "stream",
     "text": [
      "<_io.TextIOWrapper name='quotes.txt' mode='r' encoding='cp1252'>\n",
      "\n",
      "  If     we     knew what it was      we were doing, it would not be called research,          would it?     - Albert Einstein\n",
      "\n",
      "Time is a drug. Too       much of it kills you.  -  Terry Pratchett\n",
      "\n",
      "\n",
      " An expert is a person who       has made all the mistakes that           can be made in a          very narrow field - Niels Bohr\n",
      "\n",
      "   Everything must be made as simple as possible. But not simpler. - Albert Einstein     \n",
      "\n",
      "\n",
      "  Nothing in life                is to be feared, it is only to be understood. Now is the time to understand more, so that we may fear less. - Marie  Curie  \n",
      "\n",
      "If I have seen further     it is by standing on the shoulders of Giants. - Isaac Newton\n"
     ]
    }
   ],
   "source": [
    "# open the files\n",
    "# comparing the use of absolute and relative parts\n",
    "# printing the whole content ince (print is outside)\n",
    "\n",
    "# print all the contents at once\n",
    "with open(\"quotes.txt\", \"r\") as f_read:\n",
    "    quotes = f_read.read()\n",
    "\n",
    "# information of the file\n",
    "print(f_read)\n",
    "print()\n",
    "\n",
    "# contents of the file\n",
    "# applied with read() method on the file\n",
    "print(quotes)"
   ]
  },
  {
   "cell_type": "code",
   "execution_count": 23,
   "id": "ef142d12",
   "metadata": {},
   "outputs": [
    {
     "name": "stdout",
     "output_type": "stream",
     "text": [
      "  If     we     knew what it was      we were doing, it would not be called research,          would it?     - Albert Einstein\n",
      "\n",
      "\n",
      "\n",
      "Time is a drug. Too       much of it kills you.  -  Terry Pratchett\n",
      "\n",
      "\n",
      "\n",
      "\n",
      "\n",
      " An expert is a person who       has made all the mistakes that           can be made in a          very narrow field - Niels Bohr\n",
      "\n",
      "\n",
      "\n",
      "   Everything must be made as simple as possible. But not simpler. - Albert Einstein     \n",
      "\n",
      "\n",
      "\n",
      "\n",
      "\n",
      "  Nothing in life                is to be feared, it is only to be understood. Now is the time to understand more, so that we may fear less. - Marie  Curie  \n",
      "\n",
      "\n",
      "\n",
      "If I have seen further     it is by standing on the shoulders of Giants. - Isaac Newton\n"
     ]
    }
   ],
   "source": [
    "# loop through each line in the file content\n",
    "# printing is inside the for loop\n",
    "# so it prints line by line\n",
    "with open(\"quotes.txt\", \"r\") as f_read:\n",
    "    for quote in f_read:\n",
    "\n",
    "        # print each line\n",
    "        print(quote)"
   ]
  },
  {
   "cell_type": "code",
   "execution_count": 24,
   "id": "7dfb920c",
   "metadata": {},
   "outputs": [
    {
     "name": "stdout",
     "output_type": "stream",
     "text": [
      "If     we     knew what it was      we were doing, it would not be called research,          would it?     - Albert Einstein\n",
      "\n",
      "\n",
      "\n",
      "Time is a drug. Too       much of it kills you.  -  Terry Pratchett\n",
      "\n",
      "\n",
      "\n",
      "\n",
      "\n",
      "An expert is a person who       has made all the mistakes that           can be made in a          very narrow field - Niels Bohr\n",
      "\n",
      "\n",
      "\n",
      "Everything must be made as simple as possible. But not simpler. - Albert Einstein     \n",
      "\n",
      "\n",
      "\n",
      "\n",
      "\n",
      "Nothing in life                is to be feared, it is only to be understood. Now is the time to understand more, so that we may fear less. - Marie  Curie  \n",
      "\n",
      "\n",
      "\n",
      "If I have seen further     it is by standing on the shoulders of Giants. - Isaac Newton\n"
     ]
    }
   ],
   "source": [
    "# loop through each line in the file content\n",
    "# printing is inside the for loop\n",
    "# so it prints line by line\n",
    "with open(\"quotes.txt\", \"r\") as f_read:\n",
    "    for quote in f_read:\n",
    "\n",
    "        # data cleaning and manipulation\n",
    "        # overwrite the `quote`\n",
    "        quote = quote.strip(\" \") \n",
    "\n",
    "        # print each line\n",
    "        print(quote)\n",
    "\n",
    "# notice the indentation in the beginning of each letter, check; \"If\", \"an expert\", \"everthing\"\n",
    "# Only strips the front and beginning of EACH STRING"
   ]
  },
  {
   "cell_type": "code",
   "execution_count": null,
   "id": "8759564b",
   "metadata": {},
   "outputs": [
    {
     "name": "stdout",
     "output_type": "stream",
     "text": [
      "If     we     knew what it was      we were doing, it would not be called research,          would it?     - Albert Einstein\n",
      "\n",
      "Time is a drug. Too       much of it kills you.  -  Terry Pratchett\n",
      "\n",
      "\n",
      "An expert is a person who       has made all the mistakes that           can be made in a          very narrow field - Niels Bohr\n",
      "\n",
      "Everything must be made as simple as possible. But not simpler. - Albert Einstein     \n",
      "\n",
      "\n",
      "Nothing in life                is to be feared, it is only to be understood. Now is the time to understand more, so that we may fear less. - Marie  Curie  \n",
      "\n",
      "If I have seen further     it is by standing on the shoulders of Giants. - Isaac Newton\n"
     ]
    }
   ],
   "source": [
    "with open(\"quotes.txt\", \"r\") as f_read:\n",
    "    for quote in f_read:\n",
    "\n",
    "        # data cleaning and manipulation\n",
    "        # overwrite the `quote`\n",
    "        quote = quote.strip(\" \")  # remove front and back whitespaces\n",
    "        quote = quote.strip(\"\\n\") # remove the newlines\n",
    "\n",
    "        # print each line\n",
    "        print(quote)\n"
   ]
  },
  {
   "cell_type": "markdown",
   "id": "bfd76634",
   "metadata": {},
   "source": [
    "#### Strip multiple spaces\n",
    "- multiple spaces can be described as a pattern\n",
    "- use regular expression\n",
    "<br>\n",
    "`quote = re.sub()`\n",
    "- three arguments inside the sub() function\n",
    "1. find what\n",
    "2. replace with what\n",
    "3. from where\n",
    "<br>\n",
    "- `\" +\"`\n",
    "multiple spaces "
   ]
  },
  {
   "cell_type": "code",
   "execution_count": 32,
   "id": "c2cab421",
   "metadata": {},
   "outputs": [
    {
     "name": "stdout",
     "output_type": "stream",
     "text": [
      "If we knew what it was we were doing, it would not be called research, would it? - Albert Einstein\n",
      "\n",
      "Time is a drug. Too much of it kills you. - Terry Pratchett\n",
      "\n",
      "\n",
      "An expert is a person who has made all the mistakes that can be made in a very narrow field - Niels Bohr\n",
      "\n",
      "Everything must be made as simple as possible. But not simpler. - Albert Einstein \n",
      "\n",
      "\n",
      "Nothing in life is to be feared, it is only to be understood. Now is the time to understand more, so that we may fear less. - Marie Curie \n",
      "\n",
      "If I have seen further it is by standing on the shoulders of Giants. - Isaac Newton\n"
     ]
    }
   ],
   "source": [
    "with open(\"quotes.txt\", \"r\") as f_read:\n",
    "    for quote in f_read:\n",
    "\n",
    "        # data cleaning and manipulation\n",
    "        # overwrite the `quote`\n",
    "        quote = quote.strip(\" \")  # remove front and back whitespaces\n",
    "        quote = quote.strip(\"\\n\") # remove the newlines\n",
    "        quote = re.sub(\" +\", \" \", quote)\n",
    "\n",
    "\n",
    "        # print each line\n",
    "        print(quote)\n"
   ]
  },
  {
   "cell_type": "markdown",
   "id": "4ea021d9",
   "metadata": {},
   "source": [
    "<br>"
   ]
  },
  {
   "attachments": {
    "image.png": {
     "image/png": "[encoded data removed]"
    }
   },
   "cell_type": "markdown",
   "id": "31f715bf",
   "metadata": {},
   "source": [
    "### Transferring edited file into a new file\n",
    "#### Open 2 files. One as reading mode (\"r). Other as writing mode (\"w\")\n",
    "- Cannot overwrite the cleaned text file anyway since it was a read file in the beginning.\n",
    "- if wrting file exists, python will use the existing file.\n",
    "- but quotes_cleaned.txt does not exist, python created a new writing file\n",
    "![image.png](attachment:image.png)<br>\n",
    "https://www.geeksforgeeks.org/python/python-string-methods/"
   ]
  },
  {
   "cell_type": "code",
   "execution_count": 44,
   "id": "29700d2c",
   "metadata": {},
   "outputs": [
    {
     "name": "stdout",
     "output_type": "stream",
     "text": [
      "If we knew what it was we were doing, it would not be called research, would it? - Albert Einstein\n",
      "\n",
      "Time is a drug. Too much of it kills you. - Terry Pratchett\n",
      "\n",
      "\n",
      "An expert is a person who has made all the mistakes that can be made in a very narrow field - Niels Bohr\n",
      "\n",
      "Everything must be made as simple as possible. But not simpler. - Albert Einstein \n",
      "\n",
      "\n",
      "Nothing in life is to be feared, it is only to be understood. Now is the time to understand more, so that we may fear less. - Marie Curie \n",
      "\n",
      "If I have seen further it is by standing on the shoulders of Giants. - Isaac Newton\n"
     ]
    }
   ],
   "source": [
    "# initiate a counter\n",
    "i = 1\n",
    "\n",
    "with open(\"quotes.txt\", \"r\") as f_read, open(\"quotes_cleaned.txt\", \"w\") as f_write:\n",
    "    for quote in f_read:\n",
    "\n",
    "        # data cleaning and manipulation\n",
    "        # overwrite the `quote`\n",
    "        quote = quote.strip(\" \")  # remove front and back whitespaces\n",
    "        quote = quote.strip(\"\\n\") # remove the newlines\n",
    "        quote = re.sub(\" +\", \" \", quote)\n",
    "\n",
    "\n",
    "        # print each line\n",
    "        print(quote)\n",
    "\n",
    "        if quote != \"\":\n",
    "            f_write.write(f'{i},{quote}\\n')\n",
    "            i += 1\n",
    "        \n"
   ]
  },
  {
   "cell_type": "code",
   "execution_count": null,
   "id": "32dd08f1",
   "metadata": {},
   "outputs": [],
   "source": []
  }
 ],
 "metadata": {
  "kernelspec": {
   "display_name": "Python 3",
   "language": "python",
   "name": "python3"
  },
  "language_info": {
   "codemirror_mode": {
    "name": "ipython",
    "version": 3
   },
   "file_extension": ".py",
   "mimetype": "text/x-python",
   "name": "python",
   "nbconvert_exporter": "python",
   "pygments_lexer": "ipython3",
   "version": "3.12.10"
  }
 },
 "nbformat": 4,
 "nbformat_minor": 5
}
