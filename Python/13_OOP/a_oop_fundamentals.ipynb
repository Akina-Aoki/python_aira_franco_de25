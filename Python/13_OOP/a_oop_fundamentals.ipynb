{
 "cells": [
  {
   "cell_type": "markdown",
   "id": "99ca7029",
   "metadata": {},
   "source": [
    "# Object Oriented Programming Fundamentals"
   ]
  },
  {
   "cell_type": "code",
   "execution_count": 8,
   "id": "5726375f",
   "metadata": {},
   "outputs": [
    {
     "data": {
      "text/plain": [
       "'STI'"
      ]
     },
     "execution_count": 8,
     "metadata": {},
     "output_type": "execute_result"
    }
   ],
   "source": [
    "# define a class called \"Admission\"\n",
    "class Admission:\n",
    "\n",
    "    # \"dunder init\" - initializer - function that runs when a new object is created\n",
    "    def __init__(self,school, name, program = \"Cool program\"):  # setting program by default\n",
    "\n",
    "        # set the attributes to the values from the arguments\n",
    "        self.school = school\n",
    "        self.name = name\n",
    "        self.program = program\n",
    "\n",
    "# instantiate the instance person1, type of Admission   \n",
    "person1 = Admission(\"STI\", \"Ceda\")\n",
    "\n",
    "person1.school"
   ]
  },
  {
   "cell_type": "code",
   "execution_count": 11,
   "id": "ab008f2f",
   "metadata": {},
   "outputs": [
    {
     "data": {
      "text/plain": [
       "'Cool program'"
      ]
     },
     "execution_count": 11,
     "metadata": {},
     "output_type": "execute_result"
    }
   ],
   "source": [
    "person1.program"
   ]
  },
  {
   "cell_type": "code",
   "execution_count": null,
   "id": "36d06d55",
   "metadata": {},
   "outputs": [
    {
     "data": {
      "text/plain": [
       "'Java'"
      ]
     },
     "execution_count": 12,
     "metadata": {},
     "output_type": "execute_result"
    }
   ],
   "source": [
    "# instantiate a new object called \"person2\"\n",
    "person2 = Admission(name = \"Johhny\", school = \"Cool school\", program = \"Java\")\n",
    "person2.program"
   ]
  },
  {
   "cell_type": "markdown",
   "id": "2935f525",
   "metadata": {},
   "source": [
    "### Note on memory\n",
    "- By default, the `__repr__` of an instance is showing the memory address of where the instance live\n",
    "<br>\n",
    "- the `__repr`__ is the last thing that runs that's why it's no need to print\n",
    "<br>\n",
    "- Each instance of the class lives in different memory addresses.\n",
    "<br> -  They are different objects"
   ]
  },
  {
   "cell_type": "code",
   "execution_count": null,
   "id": "0edafb80",
   "metadata": {},
   "outputs": [
    {
     "data": {
      "text/plain": [
       "<__main__.Admission at 0x1f1d57bfcb0>"
      ]
     },
     "execution_count": 14,
     "metadata": {},
     "output_type": "execute_result"
    }
   ],
   "source": [
    "person1\n",
    "# Admission instance that lives in the \"0x1f1d57bfcb0\" memory address"
   ]
  },
  {
   "cell_type": "code",
   "execution_count": 15,
   "id": "9137fbd1",
   "metadata": {},
   "outputs": [
    {
     "data": {
      "text/plain": [
       "'Java'"
      ]
     },
     "execution_count": 15,
     "metadata": {},
     "output_type": "execute_result"
    }
   ],
   "source": [
    "# instantiate a new object called \"person3\"\n",
    "person3 = Admission(name = \"Johhny\", school = \"Cool school\", program = \"Java\")\n",
    "person3.program"
   ]
  },
  {
   "cell_type": "code",
   "execution_count": 16,
   "id": "f99a5db9",
   "metadata": {},
   "outputs": [
    {
     "data": {
      "text/plain": [
       "<__main__.Admission at 0x1f1d4170fb0>"
      ]
     },
     "execution_count": 16,
     "metadata": {},
     "output_type": "execute_result"
    }
   ],
   "source": [
    "person3"
   ]
  },
  {
   "cell_type": "markdown",
   "id": "ce1859df",
   "metadata": {},
   "source": [
    "### Implement class student"
   ]
  },
  {
   "cell_type": "code",
   "execution_count": 23,
   "id": "9d4a7187",
   "metadata": {},
   "outputs": [
    {
     "data": {
      "text/plain": [
       "<__main__.Student at 0x1f1d57bee10>"
      ]
     },
     "execution_count": 23,
     "metadata": {},
     "output_type": "execute_result"
    }
   ],
   "source": [
    "class Student:\n",
    "    def __init__(self, name, TypeOfStudy, accept, school, age):\n",
    "        self.name = name\n",
    "        self.TypeOfStudy = TypeOfStudy\n",
    "        self.accept = accept\n",
    "        self.school = school\n",
    "        self.age = age\n",
    "\n",
    "\n",
    "# This is a positional type argument\n",
    "student1 = Student(\n",
    "    \"Anna\",\n",
    "    \"Data Engineering\",\n",
    "    True,\n",
    "    \"STI\",\n",
    "    \"25\"\n",
    "    )\n",
    "student1"
   ]
  },
  {
   "cell_type": "code",
   "execution_count": 25,
   "id": "494d64c7",
   "metadata": {},
   "outputs": [
    {
     "data": {
      "text/plain": [
       "<__main__.Student at 0x1f1d57c1970>"
      ]
     },
     "execution_count": 25,
     "metadata": {},
     "output_type": "execute_result"
    }
   ],
   "source": [
    "# This is a keyword type argument\n",
    "student2 = Student(\n",
    "    name = \"Sara\",\n",
    "    TypeOfStudy = \"AI Developer\",\n",
    "    accept = True,\n",
    "    school = \"IT Högskola\",\n",
    "    age = 34\n",
    "    )\n",
    "student2"
   ]
  },
  {
   "cell_type": "code",
   "execution_count": null,
   "id": "aba5ed36",
   "metadata": {},
   "outputs": [],
   "source": []
  }
 ],
 "metadata": {
  "kernelspec": {
   "display_name": "python_code_along",
   "language": "python",
   "name": "python3"
  },
  "language_info": {
   "codemirror_mode": {
    "name": "ipython",
    "version": 3
   },
   "file_extension": ".py",
   "mimetype": "text/x-python",
   "name": "python",
   "nbconvert_exporter": "python",
   "pygments_lexer": "ipython3",
   "version": "3.12.10"
  }
 },
 "nbformat": 4,
 "nbformat_minor": 5
}
