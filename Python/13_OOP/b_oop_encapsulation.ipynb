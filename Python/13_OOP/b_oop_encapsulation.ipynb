{
 "cells": [
  {
   "cell_type": "markdown",
   "id": "37d69e29",
   "metadata": {},
   "source": [
    "# OOP Encapsulation\n",
    "\n",
    "- hiding internal details of a class and only exposing what’s necessary.\n",
    "- It helps to protect important data from being changed directly and keeps the code secure and organized.\n",
    "- User of a class needs to know how to use it. eg. methods and attributes.<br>\n",
    "<br>\n",
    "Hidden values:\n",
    "- Validation: eg. age<br>\n",
    "<br>\n",
    "- One way to use Encapsulation is to use private attributes and private methods.\n",
    "- Can't be accessed from outside the class.\n",
    "- But in Python, there's no such thing as private.\n",
    "- Instead, in Python **private by convention** is used.<br>\n",
    "´__value´  underscore prefix."
   ]
  },
  {
   "cell_type": "code",
   "execution_count": null,
   "id": "b5ef8f44",
   "metadata": {},
   "outputs": [
    {
     "data": {
      "text/plain": [
       "('Kokchun', 34)"
      ]
     },
     "execution_count": 1,
     "metadata": {},
     "output_type": "execute_result"
    }
   ],
   "source": [
    "# public attribute\n",
    "# create a class\n",
    "class Person:\n",
    "    # self is needed to instantiate the instance to self\n",
    "    def __init__(self, name, age):\n",
    "        self.name = name\n",
    "        self.age = age\n",
    "\n",
    "# instantiate a person\n",
    "p1 = Person(\"Kokchun\", 34)\n",
    "\n",
    "# accessible\n",
    "p1.name, p1.age\n"
   ]
  },
  {
   "cell_type": "code",
   "execution_count": null,
   "id": "fc81b9fe",
   "metadata": {},
   "outputs": [
    {
     "data": {
      "text/plain": [
       "-5"
      ]
     },
     "execution_count": 2,
     "metadata": {},
     "output_type": "execute_result"
    }
   ],
   "source": [
    "# instantiate a person\n",
    "# public attribute\n",
    "p2 = Person(\"Ada\", -5)\n",
    "p2.age"
   ]
  },
  {
   "cell_type": "markdown",
   "id": "53962ba4",
   "metadata": {},
   "source": []
  }
 ],
 "metadata": {
  "kernelspec": {
   "display_name": "Python 3",
   "language": "python",
   "name": "python3"
  },
  "language_info": {
   "codemirror_mode": {
    "name": "ipython",
    "version": 3
   },
   "file_extension": ".py",
   "mimetype": "text/x-python",
   "name": "python",
   "nbconvert_exporter": "python",
   "pygments_lexer": "ipython3",
   "version": "3.12.10"
  }
 },
 "nbformat": 4,
 "nbformat_minor": 5
}
