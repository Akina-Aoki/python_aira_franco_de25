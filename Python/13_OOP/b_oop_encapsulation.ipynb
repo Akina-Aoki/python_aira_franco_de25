{
 "cells": [
  {
   "cell_type": "markdown",
   "id": "37d69e29",
   "metadata": {},
   "source": [
    "# OOP Encapsulation\n",
    "\n",
    "- hiding internal details of a class and only exposing what’s necessary.\n",
    "- It helps to protect important data from being changed directly and keeps the code secure and organized.\n",
    "- User of a class needs to know how to use it. eg. methods and attributes.<br>\n",
    "<br>\n",
    "Hidden values:\n",
    "- Validation: eg. age<br>\n",
    "<br>\n",
    "- One way to use Encapsulation is to use private attributes and private methods.\n",
    "- Can't be accessed from outside the class.\n",
    "- But in Python, there's no such thing as private.\n",
    "- Instead, in Python **private by convention** is used.<br>\n",
    "´__value´  underscore prefix."
   ]
  },
  {
   "cell_type": "markdown",
   "id": "6e66f840",
   "metadata": {},
   "source": [
    "#### Public attribute"
   ]
  },
  {
   "cell_type": "code",
   "execution_count": null,
   "id": "b5ef8f44",
   "metadata": {},
   "outputs": [
    {
     "data": {
      "text/plain": [
       "('Kokchun', 34)"
      ]
     },
     "execution_count": 1,
     "metadata": {},
     "output_type": "execute_result"
    }
   ],
   "source": [
    "# public attribute\n",
    "# create a class\n",
    "class Person:\n",
    "    # self is needed to instantiate the instance to self\n",
    "    def __init__(self, name, age):\n",
    "        self.name = name\n",
    "        self.age = age\n",
    "\n",
    "# instantiate a person\n",
    "p1 = Person(\"Kokchun\", 34)\n",
    "\n",
    "# accessible\n",
    "p1.name, p1.age\n"
   ]
  },
  {
   "cell_type": "code",
   "execution_count": null,
   "id": "fc81b9fe",
   "metadata": {},
   "outputs": [
    {
     "data": {
      "text/plain": [
       "-5"
      ]
     },
     "execution_count": 2,
     "metadata": {},
     "output_type": "execute_result"
    }
   ],
   "source": [
    "# instantiate a person\n",
    "# public attribute\n",
    "p2 = Person(\"Ada\", -5)\n",
    "p2.age"
   ]
  },
  {
   "cell_type": "markdown",
   "id": "45430d82",
   "metadata": {},
   "source": [
    "#### Private attribute"
   ]
  },
  {
   "cell_type": "code",
   "execution_count": null,
   "id": "7bb19ef2",
   "metadata": {},
   "outputs": [
    {
     "ename": "AttributeError",
     "evalue": "'Person' object has no attribute 'name'",
     "output_type": "error",
     "traceback": [
      "\u001b[31m---------------------------------------------------------------------------\u001b[39m",
      "\u001b[31mAttributeError\u001b[39m                            Traceback (most recent call last)",
      "\u001b[36mCell\u001b[39m\u001b[36m \u001b[39m\u001b[32mIn[3]\u001b[39m\u001b[32m, line 7\u001b[39m\n\u001b[32m      5\u001b[39m         \u001b[38;5;28mself\u001b[39m._age = age\n\u001b[32m      6\u001b[39m p3 = Person(\u001b[33m\"\u001b[39m\u001b[33mBeda\u001b[39m\u001b[33m\"\u001b[39m, -\u001b[32m3\u001b[39m)\n\u001b[32m----> \u001b[39m\u001b[32m7\u001b[39m \u001b[43mp3\u001b[49m\u001b[43m.\u001b[49m\u001b[43mname\u001b[49m\n",
      "\u001b[31mAttributeError\u001b[39m: 'Person' object has no attribute 'name'"
     ]
    }
   ],
   "source": [
    "# Private attribute\n",
    "class Person:\n",
    "    def __init__(self, name, age):\n",
    "        self._name = name\n",
    "        self._age = age\n",
    "p3 = Person(\"Beda\", -3)\n",
    "\n",
    "# private attribute cannot be accessed\n",
    "p3.name"
   ]
  },
  {
   "cell_type": "code",
   "execution_count": 5,
   "id": "f6b7987a",
   "metadata": {},
   "outputs": [
    {
     "data": {
      "text/plain": [
       "'Beda'"
      ]
     },
     "execution_count": 5,
     "metadata": {},
     "output_type": "execute_result"
    }
   ],
   "source": [
    "# Accessing a private attribute\n",
    "# python programmers know that _ is private by convetion\n",
    "p3._name"
   ]
  },
  {
   "cell_type": "markdown",
   "id": "b668c12e",
   "metadata": {},
   "source": [
    "#### Fix validation of age"
   ]
  },
  {
   "cell_type": "code",
   "execution_count": null,
   "id": "4c341209",
   "metadata": {},
   "outputs": [
    {
     "name": "stdout",
     "output_type": "stream",
     "text": [
      "Age must be between 0 and 124\n"
     ]
    },
    {
     "data": {
      "text/plain": [
       "Person('Eda', '5')"
      ]
     },
     "execution_count": 9,
     "metadata": {},
     "output_type": "execute_result"
    }
   ],
   "source": [
    "# Private attribute\n",
    "class Person:\n",
    "    def __init__(self, name, age):\n",
    "        self._name = name\n",
    "\n",
    "        # fix validation inside the __init__\n",
    "        # issue: this validation only happens during instantiation\n",
    "        if not (0<= age < 125):\n",
    "            raise ValueError (\"Age must be between 0 and 124\")\n",
    "        \n",
    "        self._age = age\n",
    "\n",
    "    def __repr__(self):\n",
    "        return f\"Person('{self._name}', '{self._age}')\"\n",
    "\n",
    "# trt except for validation\n",
    "try:\n",
    "    p4 = Person(\"Doda\", -5)\n",
    "except ValueError as err:\n",
    "    print(err)\n",
    "\n",
    "p5 = Person(\"Eda\", 5)\n",
    "p5"
   ]
  },
  {
   "cell_type": "code",
   "execution_count": null,
   "id": "12a2fb78",
   "metadata": {},
   "outputs": [
    {
     "data": {
      "text/plain": [
       "Person('Eda', '-5')"
      ]
     },
     "execution_count": 10,
     "metadata": {},
     "output_type": "execute_result"
    }
   ],
   "source": [
    "# it not good to call this but okay since validation only happens in _init\n",
    "p5._age = -5\n",
    "p5"
   ]
  },
  {
   "cell_type": "markdown",
   "id": "31926368",
   "metadata": {},
   "source": [
    "#### Implementing a getter\n",
    "####  @Property\n",
    "- The syntax used to define properties is very concise and readable.<br>\n",
    "- You can access instance attributes exactly as if they were public attributes while using the \"magic\" of intermediaries (getters and setters) to validate new values and to avoid accessing or modifying the data directly.<br>\n",
    "- By using @property, you can \"reuse\" the name of a property to avoid creating new names for the getters, setters, and deleters.<br>\n",
    "<br>\n",
    "- getter -> gets a value\n",
    "- setter -> sets a value<br>\n",
    "<br>\n",
    "put in validation code in the setter<br>\n",
    "resource: <br>\n",
    "https://www.freecodecamp.org/news/python-property-decorator/"
   ]
  },
  {
   "cell_type": "code",
   "execution_count": 13,
   "id": "56a053c8",
   "metadata": {},
   "outputs": [
    {
     "name": "stdout",
     "output_type": "stream",
     "text": [
      "age getter called\n"
     ]
    },
    {
     "data": {
      "text/plain": [
       "8"
      ]
     },
     "execution_count": 13,
     "metadata": {},
     "output_type": "execute_result"
    }
   ],
   "source": [
    "# Tos solve the issue of \"this validation only happens during instantiation\"\n",
    "\n",
    "# Private attribute\n",
    "class Person:\n",
    "    def __init__(self, name, age):\n",
    "        self._name = name\n",
    "\n",
    "        # fix validation inside the __init__\n",
    "        # issue: this validation only happens during instantiation\n",
    "        if not (0<= age < 125):\n",
    "            raise ValueError (\"Age must be between 0 and 124\")\n",
    "        \n",
    "        self._age = age\n",
    "\n",
    "    # decorator - gives a function more functionality\n",
    "    # makes it into a property (getter and setter)\n",
    "    # should be before the actual method we're decorating\n",
    "    @property\n",
    "    def age(self):\n",
    "        print(\"age getter called\")\n",
    "        return self._age\n",
    "\n",
    "    def __repr__(self):\n",
    "        return f\"Person('{self._name}', '{self._age}')\"\n",
    "    \n",
    "\n",
    "# new sample\n",
    "p6 = Person(\"Bibbi\", 8)\n",
    "p6.age"
   ]
  },
  {
   "cell_type": "markdown",
   "id": "6053e7b4",
   "metadata": {},
   "source": [
    "#### Implementing a setter - Code explnation"
   ]
  },
  {
   "cell_type": "code",
   "execution_count": null,
   "id": "d850cf6c",
   "metadata": {},
   "outputs": [
    {
     "name": "stdout",
     "output_type": "stream",
     "text": [
      "age setter called\n",
      "age getter called\n"
     ]
    },
    {
     "data": {
      "text/plain": [
       "8"
      ]
     },
     "execution_count": 17,
     "metadata": {},
     "output_type": "execute_result"
    }
   ],
   "source": [
    "# Tos solve the issue of \"this validation only happens during instantiation\"\n",
    "\n",
    "# Private attribute\n",
    "# Create a blueprint for creating person Objects\n",
    "class Person:\n",
    "\n",
    "    # constructor method\n",
    "    # runs autmaticallyo when a new Person is created\n",
    "    def __init__(self, name, age):\n",
    "\n",
    "         # The underscore before _name means it's a \"private\" variable by convention.\n",
    "        # It shouldn't be accessed or modified directly outside this class.\n",
    "        self._name = name\n",
    "\n",
    "        # We validate the age here, but the problem is:\n",
    "        # this check only runs once — when the object is first created.\n",
    "        # Later, someone could still do p7.age = 9999 without triggering this validation.\n",
    "        if not (0<= age < 125):\n",
    "            raise ValueError (\"Age must be between 0 and 124\")\n",
    "        \n",
    "        # Assign the given age to self.age (notice no underscore here!)\n",
    "        # This actually triggers the setter method below (@age.setter)\n",
    "        self.age = age\n",
    "\n",
    "    # @property turns a method into a \"getter\" for a private attribute.\n",
    "    # When we access p7.age, Python will *automatically* call this function.\n",
    "    \n",
    "    # implement the getter\n",
    "    @property\n",
    "    def age(self):\n",
    "        print(\"age getter called\")  # Just to show that this function is being used\n",
    "        return self._age            # Return the actual private attribute _age\n",
    "    \n",
    "    # @age.setter defines how we handle assignment to 'age'\n",
    "    # Example: when we do p7.age = 30, this method is automatically called.\n",
    "    @age.setter\n",
    "    def age(self, value):\n",
    "        print(\"age setter called\")   # Just to show when this is triggered\n",
    "        \n",
    "        # Currently, this setter doesn’t re-check the validation.\n",
    "        # To make it fully encapsulated, we should move the validation here\n",
    "        # so every new value (even after creation) is checked before saving.\n",
    "        self._age = value\n",
    "\n",
    "\n",
    "    # __repr__ is a built-in method that defines what the object looks like when printed.\n",
    "    # It returns a developer-friendly string version of the object.\n",
    "    def __repr__(self):\n",
    "        return f\"Person('{self._name}', '{self._age}')\"\n",
    "    \n",
    "\n",
    "# when instantiating Person - we use the age SETTER\n",
    "# new sample\n",
    "p7 = Person(\"Bobbo\", 8)\n",
    "\n",
    "# when instantiating age - we use the age GETTER\n",
    "p7.age"
   ]
  },
  {
   "cell_type": "code",
   "execution_count": 18,
   "id": "c0c5995e",
   "metadata": {},
   "outputs": [
    {
     "name": "stdout",
     "output_type": "stream",
     "text": [
      "age setter called\n"
     ]
    },
    {
     "data": {
      "text/plain": [
       "Person('Bobbo', '33')"
      ]
     },
     "execution_count": 18,
     "metadata": {},
     "output_type": "execute_result"
    }
   ],
   "source": [
    "p7.age = 33\n",
    "p7"
   ]
  },
  {
   "cell_type": "markdown",
   "id": "e4e2e719",
   "metadata": {},
   "source": [
    "#### Exercise\n",
    "make sure that this is not allowed, give proper error message\n",
    "\n",
    "test them out, both getter and setter\n",
    "extra: check the type also with isinstance()"
   ]
  },
  {
   "cell_type": "code",
   "execution_count": 22,
   "id": "60620a36",
   "metadata": {},
   "outputs": [
    {
     "name": "stdout",
     "output_type": "stream",
     "text": [
      "age setter called\n",
      "age setter called\n",
      "Age must be between 0 and 124, not -3\n",
      "age getter called\n"
     ]
    },
    {
     "data": {
      "text/plain": [
       "Person('Dadda', 5)"
      ]
     },
     "execution_count": 22,
     "metadata": {},
     "output_type": "execute_result"
    }
   ],
   "source": [
    "class Person:\n",
    "    def __init__(self, name, age):\n",
    "        self._name = name\n",
    "        # whenever we do assignment where there is a setter\n",
    "        # the setter will be called\n",
    "        self.age = age\n",
    "\n",
    "    # a decorator - it gives a function more functionality\n",
    "    # makes it into a property (getter and setter)\n",
    "    @property\n",
    "    def age(self):\n",
    "        print(\"age getter called\")\n",
    "        return self._age\n",
    "\n",
    "    @age.setter\n",
    "    def age(self, value):\n",
    "        print(\"age setter called\")\n",
    "\n",
    "        if not (0 <= value < 125):\n",
    "            raise ValueError(f\"Age must be between 0 and 124, not {value}\")\n",
    "        self._age = value\n",
    "\n",
    "    def __repr__(self):\n",
    "        return f\"Person('{self._name}', {self.age})\"\n",
    "\n",
    "p9 = Person(\"Dadda\", 5)\n",
    "try:\n",
    "    p9.age = -3\n",
    "except ValueError as err:\n",
    "    print(err)\n",
    "p9"
   ]
  },
  {
   "cell_type": "code",
   "execution_count": null,
   "id": "409f5545",
   "metadata": {},
   "outputs": [
    {
     "name": "stdout",
     "output_type": "stream",
     "text": [
      "age setter called\n"
     ]
    },
    {
     "data": {
      "text/plain": [
       "Person('Bobbo', '-5')"
      ]
     },
     "execution_count": 19,
     "metadata": {},
     "output_type": "execute_result"
    }
   ],
   "source": [
    "p9.age = -5\n",
    "p9"
   ]
  },
  {
   "cell_type": "code",
   "execution_count": 23,
   "id": "23ce2203",
   "metadata": {},
   "outputs": [
    {
     "name": "stdout",
     "output_type": "stream",
     "text": [
      "age getter called\n"
     ]
    },
    {
     "data": {
      "text/plain": [
       "5"
      ]
     },
     "execution_count": 23,
     "metadata": {},
     "output_type": "execute_result"
    }
   ],
   "source": [
    "p9.age"
   ]
  },
  {
   "cell_type": "markdown",
   "id": "4f6236ba",
   "metadata": {},
   "source": [
    "#### OOP Encapsulation Exercise\n",
    "(+) public attribute\n",
    "(-) private attribute<br>\n",
    "________________________\n",
    "<br>\n",
    "+ name<br>\n",
    "- social_security_nr(int)<br>\n",
    "+ salary (int)<br>\n",
    "+ role<br>\n",
    "+ employment_year(int)<br>\n",
    "methods<br>\n",
    "increase_salary(self, value)<br>\n",
    "shows the Total of current and additional salary = TOTAL"
   ]
  },
  {
   "cell_type": "code",
   "execution_count": null,
   "id": "a0937fde",
   "metadata": {},
   "outputs": [],
   "source": [
    "# My solution\n",
    "class Employee:\n",
    "    # runs autmatically when a new Employee is created\n",
    "    def __init__(self, name, social_security_nr, salary, role, employment_year):\n",
    "        self.name = name\n",
    "        self._social_security_nr = social_security_nr\n",
    "        self.salary = salary\n",
    "        self.role = role\n",
    "        self.employment_year = employment_year\n",
    "    \n",
    "    # salary setter\n",
    "    @property\n",
    "    def salary(self):\n",
    "        print(\"private attribute: Getter is triggered\")\n",
    "        return self._salary\n",
    "    \n",
    "    # salary getter\n",
    "    @salary.setter\n",
    "    def salary(self, value):\n",
    "        print(\"private attribute: Setter is triggered\")\n",
    "\n",
    "        if value > 0:\n",
    "            raise ValueError(f'Salary number must be an integer.')\n",
    "        self._salary = value\n",
    "\n",
    "    \n",
    "    # salary increase for 5% each\n",
    "    def increas_salary(self, value):\n",
    "        value *.5 == value\n",
    "\n",
    "\n",
    "    def __repr__(self):\n",
    "     return f\"Employee('Name: {self.name}\\nSocial Security nr: {self.social_security_nr}\\nSalary: {self.salary}\\nRole: {self.role}\\nEmployment Year: {self.employment_year}\\n')\"\n",
    "    \n",
    "\n",
    "\n",
    "employee1 = Employee(\"Aira\", 199401011234, 50000, \"Data Engineer\", 2027)\n",
    "employee2 = Employee(\"Anna\", 199307017893, 64000, \"Software Engineer\", 2019)"
   ]
  },
  {
   "cell_type": "code",
   "execution_count": 33,
   "id": "65caec43",
   "metadata": {},
   "outputs": [
    {
     "data": {
      "text/plain": [
       "50000"
      ]
     },
     "execution_count": 33,
     "metadata": {},
     "output_type": "execute_result"
    }
   ],
   "source": [
    "employee1.name\n",
    "employee1.salary"
   ]
  },
  {
   "cell_type": "markdown",
   "id": "e6d917f6",
   "metadata": {},
   "source": [
    "#### Class Solution\n",
    "- documentation / docstring\n",
    "- type printing"
   ]
  },
  {
   "cell_type": "code",
   "execution_count": null,
   "id": "160e3717",
   "metadata": {},
   "outputs": [
    {
     "name": "stdout",
     "output_type": "stream",
     "text": [
      "Salary can't be negative value -64000\n"
     ]
    }
   ],
   "source": [
    "# class solution\n",
    "class Employee:\n",
    "    \"\"\"\n",
    "    A class to hold employee information\n",
    "\n",
    "    Attributes:\n",
    "    - name (str): name of the person\n",
    "    - social_security_nr (int): the social security number of a person in 12 numbers\n",
    "    - salary (int): salary in SEK, needs to be larger than 0\n",
    "    ...\n",
    "\n",
    "    Methods:\n",
    "    - increase_salary(value): increases the salary of the employee with value SEK\n",
    "\n",
    "    Example usage:\n",
    "    >>> e1 = Employee(\"Aira\", 199401011234, 50000, \"Data Engineer\", 2027)\n",
    "    >>> e1.increase_salary(5000)\n",
    "    >>> e1.salary\n",
    "\n",
    "    >>> e2 = Employee(\"Anna\", 199307017893, -64000, \"Software Engineer\", 2019)\n",
    "\n",
    "\n",
    "    \"\"\"\n",
    "    # added type printing to show the variable type\n",
    "    def __init__(self, name:str, social_security_nr:int, salary:int, role:str, employment_year:int):\n",
    "        self.name = name\n",
    "        self._social_security_nr = social_security_nr   # private attribute\n",
    "        self.salary = salary\n",
    "        self.role = role\n",
    "        self.employment_year = employment_year\n",
    "\n",
    "    @property\n",
    "    def salary(self):\n",
    "        # return the private backing variable\n",
    "        return self._salary\n",
    "\n",
    "    @salary.setter\n",
    "    def salary(self, value):\n",
    "        if value <= 0:\n",
    "            raise ValueError (f\"Salary can't be negative value {value}\")\n",
    "        # overwrite the new salary\n",
    "        self._salary = value\n",
    "\n",
    "    # method to increase salary\n",
    "    def increas_salary(self, value):\n",
    "        self.salary += value\n",
    "\n",
    "    def __repr__(self):\n",
    "     return f\"Employee: Name: {self.name}\\nSocial Security nr: {self._social_security_nr}\\nSalary: {self.salary}\\nRole: {self.role}\\nEmployment Year: {self.employment_year}\\n\"\n",
    "    \n",
    "e1 = Employee(\"Aira\", 199401011234, 50000, \"Data Engineer\", 2027)\n",
    "\n",
    "\n",
    "try:\n",
    "    e2 = Employee(\"Anna\", 199307017893, -64000, \"Software Engineer\", 2019)\n",
    "except ValueError as err:\n",
    "    print(err)\n"
   ]
  },
  {
   "cell_type": "code",
   "execution_count": 50,
   "id": "51338238",
   "metadata": {},
   "outputs": [
    {
     "data": {
      "text/plain": [
       "Employee: Name: Aira\n",
       "Social Security nr: 199401011234\n",
       "Salary: 50000\n",
       "Role: Data Engineer\n",
       "Employment Year: 2027"
      ]
     },
     "execution_count": 50,
     "metadata": {},
     "output_type": "execute_result"
    }
   ],
   "source": [
    "e1"
   ]
  },
  {
   "cell_type": "code",
   "execution_count": null,
   "id": "586f0278",
   "metadata": {},
   "outputs": [
    {
     "name": "stdout",
     "output_type": "stream",
     "text": [
      "Help on class Employee in module __main__:\n",
      "\n",
      "class Employee(builtins.object)\n",
      " |  Employee(name: str, social_security_nr: int, salary: int, role: str, employment_year: int)\n",
      " |\n",
      " |  Methods defined here:\n",
      " |\n",
      " |  __init__(self, name: str, social_security_nr: int, salary: int, role: str, employment_year: int)\n",
      " |      Initialize self.  See help(type(self)) for accurate signature.\n",
      " |\n",
      " |  __repr__(self)\n",
      " |      Return repr(self).\n",
      " |\n",
      " |  increas_salary(self, value)\n",
      " |\n",
      " |  ----------------------------------------------------------------------\n",
      " |  Data descriptors defined here:\n",
      " |\n",
      " |  __dict__\n",
      " |      dictionary for instance variables\n",
      " |\n",
      " |  __weakref__\n",
      " |      list of weak references to the object\n",
      " |\n",
      " |  salary\n",
      "\n"
     ]
    }
   ],
   "source": [
    "# See the documentation \n",
    "help(Employee)"
   ]
  },
  {
   "cell_type": "code",
   "execution_count": 51,
   "id": "a620b59f",
   "metadata": {},
   "outputs": [
    {
     "data": {
      "text/plain": [
       "Employee: Name: Anna\n",
       "Social Security nr: 199307017893\n",
       "Salary: 64000\n",
       "Role: Software Engineer\n",
       "Employment Year: 2019"
      ]
     },
     "execution_count": 51,
     "metadata": {},
     "output_type": "execute_result"
    }
   ],
   "source": [
    "e2"
   ]
  },
  {
   "cell_type": "code",
   "execution_count": null,
   "id": "15d3f7f3",
   "metadata": {},
   "outputs": [],
   "source": []
  }
 ],
 "metadata": {
  "kernelspec": {
   "display_name": "Python 3",
   "language": "python",
   "name": "python3"
  },
  "language_info": {
   "codemirror_mode": {
    "name": "ipython",
    "version": 3
   },
   "file_extension": ".py",
   "mimetype": "text/x-python",
   "name": "python",
   "nbconvert_exporter": "python",
   "pygments_lexer": "ipython3",
   "version": "3.12.10"
  }
 },
 "nbformat": 4,
 "nbformat_minor": 5
}
