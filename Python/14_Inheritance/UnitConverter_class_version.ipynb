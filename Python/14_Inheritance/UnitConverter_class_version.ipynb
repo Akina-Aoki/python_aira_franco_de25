{
 "cells": [
  {
   "cell_type": "markdown",
   "id": "598e60e1",
   "metadata": {},
   "source": [
    "# UnitConverter Class version\n",
    "![image.png](attachment:image.png)"
   ]
  },
  {
   "cell_type": "code",
   "execution_count": 10,
   "id": "728a30e3",
   "metadata": {},
   "outputs": [
    {
     "ename": "ImportError",
     "evalue": "cannot import name 'validate_positive_number' from 'utility' (c:\\Users\\adelo\\de25\\python_aira_franco_de25\\Python\\14_Inheritance\\utility.py)",
     "output_type": "error",
     "traceback": [
      "\u001b[31m---------------------------------------------------------------------------\u001b[39m",
      "\u001b[31mImportError\u001b[39m                               Traceback (most recent call last)",
      "\u001b[36mCell\u001b[39m\u001b[36m \u001b[39m\u001b[32mIn[10]\u001b[39m\u001b[32m, line 2\u001b[39m\n\u001b[32m      1\u001b[39m \u001b[38;5;28;01mfrom\u001b[39;00m\u001b[38;5;250m \u001b[39m\u001b[34;01mnumbers\u001b[39;00m\u001b[38;5;250m \u001b[39m\u001b[38;5;28;01mimport\u001b[39;00m Number\n\u001b[32m----> \u001b[39m\u001b[32m2\u001b[39m \u001b[38;5;28;01mfrom\u001b[39;00m\u001b[38;5;250m \u001b[39m\u001b[34;01mutility\u001b[39;00m\u001b[38;5;250m \u001b[39m\u001b[38;5;28;01mimport\u001b[39;00m validate_positive_number\n\u001b[32m      5\u001b[39m \u001b[38;5;28;01mclass\u001b[39;00m\u001b[38;5;250m \u001b[39m\u001b[34;01mUnitConverter\u001b[39;00m:\n\u001b[32m      6\u001b[39m     \u001b[38;5;28;01mdef\u001b[39;00m\u001b[38;5;250m \u001b[39m\u001b[34m__init__\u001b[39m(\u001b[38;5;28mself\u001b[39m, value: Number):\n",
      "\u001b[31mImportError\u001b[39m: cannot import name 'validate_positive_number' from 'utility' (c:\\Users\\adelo\\de25\\python_aira_franco_de25\\Python\\14_Inheritance\\utility.py)"
     ]
    }
   ],
   "source": [
    "from numbers import Number\n",
    "from utility import validate_positive_number\n",
    "\n",
    "\n",
    "class UnitConverter:\n",
    "    def __init__(self, value: Number):\n",
    "        self.value = value\n",
    "\n",
    "    @property\n",
    "    def value(self):\n",
    "        return self._value\n",
    "\n",
    "    @value.setter\n",
    "    def value(self, new_value):\n",
    "        # validation code\n",
    "        validate_positive_number(new_value)\n",
    "\n",
    "        self._value = new_value\n",
    "\n",
    "    def inch_to_cm(self):\n",
    "        return 2.54 * self.value\n",
    "\n",
    "    def foot_to_meters(self):\n",
    "        return .3048 * self.value\n",
    "\n",
    "\n",
    "unit_converter = UnitConverter(5)\n",
    "\n",
    "# shortcut to get this output:\n",
    "# unit_converter.value = 5\n",
    "print(f\"{unit_converter.value = }\")\n",
    "\n",
    "try:\n",
    "    unit_converter.value = \"5\"\n",
    "except TypeError as err:\n",
    "    print(err)\n",
    "\n",
    "try:\n",
    "    unit_converter.value = -5\n",
    "except ValueError as err:\n",
    "    print(err)\n",
    "\n",
    "print(f\"{unit_converter.foot_to_meters() = }\")"
   ]
  },
  {
   "cell_type": "code",
   "execution_count": null,
   "id": "ead61586",
   "metadata": {},
   "outputs": [],
   "source": []
  }
 ],
 "metadata": {
  "kernelspec": {
   "display_name": "python_code_along",
   "language": "python",
   "name": "python3"
  },
  "language_info": {
   "codemirror_mode": {
    "name": "ipython",
    "version": 3
   },
   "file_extension": ".py",
   "mimetype": "text/x-python",
   "name": "python",
   "nbconvert_exporter": "python",
   "pygments_lexer": "ipython3",
   "version": "3.12.10"
  }
 },
 "nbformat": 4,
 "nbformat_minor": 5
}
