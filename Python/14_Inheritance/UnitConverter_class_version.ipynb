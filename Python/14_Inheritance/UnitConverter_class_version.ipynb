{
 "cells": [
  {
   "cell_type": "markdown",
   "id": "598e60e1",
   "metadata": {},
   "source": [
    "# UnitConverter Class version\n",
    "![image.png](attachment:image.png)"
   ]
  },
  {
   "cell_type": "code",
   "execution_count": 16,
   "id": "728a30e3",
   "metadata": {},
   "outputs": [
    {
     "name": "stdout",
     "output_type": "stream",
     "text": [
      "unit_converter.value = 5\n",
      "Expected a number, got str\n",
      "Expected a positive number, got -5\n",
      "unit_converter.foot_to_meters() = 1.524\n"
     ]
    }
   ],
   "source": [
    "from numbers import Number\n",
    "from util import validate_positive  # updated import\n",
    "\n",
    "class UnitConverter:\n",
    "    def __init__(self, value: Number):\n",
    "        self.value = value\n",
    "\n",
    "    @property\n",
    "    def value(self):\n",
    "        return self._value\n",
    "\n",
    "    @value.setter\n",
    "    def value(self, new_value):\n",
    "        validate_positive(new_value)\n",
    "        self._value = new_value\n",
    "\n",
    "    def inch_to_cm(self):\n",
    "        return 2.54 * self.value\n",
    "\n",
    "    def foot_to_meters(self):\n",
    "        return 0.3048 * self.value\n",
    "\n",
    "\n",
    "unit_converter = UnitConverter(5)\n",
    "\n",
    "print(f\"{unit_converter.value = }\")\n",
    "\n",
    "try:\n",
    "    unit_converter.value = \"5\"\n",
    "except TypeError as err:\n",
    "    print(err)\n",
    "\n",
    "try:\n",
    "    unit_converter.value = -5\n",
    "except ValueError as err:\n",
    "    print(err)\n",
    "\n",
    "print(f\"{unit_converter.foot_to_meters() = }\")\n"
   ]
  },
  {
   "cell_type": "code",
   "execution_count": null,
   "id": "ead61586",
   "metadata": {},
   "outputs": [],
   "source": []
  }
 ],
 "metadata": {
  "kernelspec": {
   "display_name": "python_code_along",
   "language": "python",
   "name": "python3"
  },
  "language_info": {
   "codemirror_mode": {
    "name": "ipython",
    "version": 3
   },
   "file_extension": ".py",
   "mimetype": "text/x-python",
   "name": "python",
   "nbconvert_exporter": "python",
   "pygments_lexer": "ipython3",
   "version": "3.12.10"
  }
 },
 "nbformat": 4,
 "nbformat_minor": 5
}
