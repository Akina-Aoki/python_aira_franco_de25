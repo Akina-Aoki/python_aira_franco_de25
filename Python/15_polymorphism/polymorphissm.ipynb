{
 "cells": [
  {
   "cell_type": "markdown",
   "id": "d2b6f73d",
   "metadata": {},
   "source": [
    "# Ploymorphism \n",
    "- many shapes\n",
    "- same function name or operator used for different types\n",
    "<br>\n",
    "\n"
   ]
  },
  {
   "cell_type": "markdown",
   "id": "ce9024fa",
   "metadata": {},
   "source": []
  },
  {
   "cell_type": "code",
   "execution_count": 3,
   "id": "66892c26",
   "metadata": {},
   "outputs": [
    {
     "name": "stdout",
     "output_type": "stream",
     "text": [
      "I am a fish, not a Fisky\n",
      "Fish Fisky says blop blop\n",
      "I am a fish, not a Goldy\n",
      "Fish Goldy says blop blop\n",
      "I am a fox, no one knows how I sound.\n"
     ]
    }
   ],
   "source": [
    "class Fish:\n",
    "    def __init__(self, name):\n",
    "        self.name = name\n",
    "\n",
    "    def __str__(self):\n",
    "        return f\"I am a fish, not a {self.name}\"\n",
    "\n",
    "    def speak(self):\n",
    "        print(f\"Fish {self.name} says blop blop\")\n",
    "\n",
    "class Fox:\n",
    "    def __init__(self, name):\n",
    "        self.name = name\n",
    "\n",
    "    def __str__(self):\n",
    "        return f\"I am a fox, no one knows how I sound.\"\n",
    "    \n",
    "    def speak(self):\n",
    "        return NotImplemented\n",
    "\n",
    "    \n",
    "animals = [Fish(\"Fisky\"), Fish(\"Goldy\"), Fox(\"Vivi\")]\n",
    "\n",
    "for animal in animals:\n",
    "    print(animal)\n",
    "    animal.speak()\n",
    "    "
   ]
  },
  {
   "cell_type": "code",
   "execution_count": null,
   "id": "d2ea6309",
   "metadata": {},
   "outputs": [],
   "source": []
  }
 ],
 "metadata": {
  "kernelspec": {
   "display_name": "python_code_along",
   "language": "python",
   "name": "python3"
  },
  "language_info": {
   "codemirror_mode": {
    "name": "ipython",
    "version": 3
   },
   "file_extension": ".py",
   "mimetype": "text/x-python",
   "name": "python",
   "nbconvert_exporter": "python",
   "pygments_lexer": "ipython3",
   "version": "3.12.10"
  }
 },
 "nbformat": 4,
 "nbformat_minor": 5
}
