{
 "cells": [
  {
   "cell_type": "markdown",
   "id": "c9cf8100",
   "metadata": {},
   "source": [
    "# Dictionary\n",
    "- A collection data type where data is stored in key - value pair"
   ]
  },
  {
   "cell_type": "markdown",
   "id": "4a921a6b",
   "metadata": {},
   "source": [
    "### Create a dictionary with `dict()` class type"
   ]
  },
  {
   "cell_type": "code",
   "execution_count": 1,
   "id": "3f76fdb9",
   "metadata": {},
   "outputs": [],
   "source": [
    "# this a class. Means creating an object called \"person\"\n",
    "# create a key-value pair\n",
    "person = dict(\n",
    "    name = \"Kokchun\",\n",
    "    age = 34.9,\n",
    "    work = \"teacher\"\n",
    ")"
   ]
  },
  {
   "cell_type": "markdown",
   "id": "32a99b5e",
   "metadata": {},
   "source": [
    "#### Retrieving data from the dictionary"
   ]
  },
  {
   "cell_type": "code",
   "execution_count": 4,
   "id": "04f8494a",
   "metadata": {},
   "outputs": [
    {
     "name": "stdout",
     "output_type": "stream",
     "text": [
      "Kokchun\n",
      "teacher\n"
     ]
    }
   ],
   "source": [
    "# retrieving data from dict\n",
    "# eg: retrieve the name\n",
    "print(person[\"name\"])       # compare to list indexing: list[0]\n",
    "\n",
    "# eg: retrieve the occupation\n",
    "print(person[\"work\"])"
   ]
  },
  {
   "cell_type": "markdown",
   "id": "2e0ac3e6",
   "metadata": {},
   "source": [
    "### Another way to create a dictionary with the `{}`"
   ]
  },
  {
   "cell_type": "code",
   "execution_count": 13,
   "id": "8b74ead6",
   "metadata": {},
   "outputs": [
    {
     "name": "stdout",
     "output_type": "stream",
     "text": [
      "Kokchun\n",
      "teacher\n",
      "math\n",
      "Sweden\n"
     ]
    }
   ],
   "source": [
    "person = {\n",
    "          \"name\": \"Kokchun\",\n",
    "          \"age\": 34.9,\n",
    "          \"work\": \"teacher\",\n",
    "          \"interest\": [\"math\", \"python\", \"yoga\"],\n",
    "          \"address\": {\"country\":\"Sweden\", \"city\": \"Stockholm\"}\n",
    "          }\n",
    "\n",
    "print(person[\"name\"])\n",
    "print(person[\"work\"])\n",
    "print(person[\"interest\"][0])\n",
    "print(person[\"address\"][\"country\"])"
   ]
  },
  {
   "cell_type": "markdown",
   "id": "b53e9f32",
   "metadata": {},
   "source": [
    "### Iterate over a dictionary"
   ]
  },
  {
   "cell_type": "code",
   "execution_count": 13,
   "id": "9e3c7749",
   "metadata": {},
   "outputs": [],
   "source": [
    "words = {\n",
    "        \"data structure\": \"means of storing data\",\n",
    "        \"regression\": \"a function to best fit the data\",\n",
    "        \"method\": \"a function bound to an object\"\n",
    "}"
   ]
  },
  {
   "cell_type": "code",
   "execution_count": 15,
   "id": "6c039a93",
   "metadata": {},
   "outputs": [
    {
     "name": "stdout",
     "output_type": "stream",
     "text": [
      "Key: data structure\n",
      "Value: means of storing data\n",
      "---------\n",
      "Key: regression\n",
      "Value: a function to best fit the data\n",
      "---------\n",
      "Key: method\n",
      "Value: a function bound to an object\n",
      "---------\n"
     ]
    }
   ],
   "source": [
    "# iterative over both keys and values\n",
    "for key, value in words.items(): \n",
    "    print(f\"Key: {key}\")\n",
    "    print(f\"Value: {value}\")\n",
    "    print(\"---------\")\n"
   ]
  },
  {
   "cell_type": "code",
   "execution_count": 16,
   "id": "1a63f81a",
   "metadata": {},
   "outputs": [
    {
     "name": "stdout",
     "output_type": "stream",
     "text": [
      "Key: data structure\n",
      "Key: regression\n",
      "Key: method\n"
     ]
    }
   ],
   "source": [
    "for key in words.keys():\n",
    "    print(f'Key: {key}')"
   ]
  },
  {
   "cell_type": "code",
   "execution_count": 6,
   "id": "fe4b8aad",
   "metadata": {},
   "outputs": [
    {
     "name": "stdout",
     "output_type": "stream",
     "text": [
      "Key: function bound to an object\n",
      "Key: function bound to an object\n",
      "Key: function bound to an object\n"
     ]
    }
   ],
   "source": [
    "for key in words.values():\n",
    "    print(f'Key: {value}')"
   ]
  },
  {
   "cell_type": "markdown",
   "id": "2c2e9848",
   "metadata": {},
   "source": [
    "<br>"
   ]
  },
  {
   "cell_type": "markdown",
   "id": "8723021d",
   "metadata": {},
   "source": [
    "### Dictionary Comprehension\n",
    "- A dictionary comprehension is a concise way to create dictionaries using a compact and expressive syntax. It's similar to list comprehensions but produces dictionaries instead of lists."
   ]
  },
  {
   "cell_type": "code",
   "execution_count": 8,
   "id": "74de9679",
   "metadata": {},
   "outputs": [
    {
     "data": {
      "text/plain": [
       "{'f': 0, 'e': 10, 'd': 20, 'c': 30, 'b': 40, 'a': 50}"
      ]
     },
     "execution_count": 8,
     "metadata": {},
     "output_type": "execute_result"
    }
   ],
   "source": [
    "# produce a dicitonary called \"grade limit\"\n",
    "grade_limit = {\n",
    "    \"f\": 0,\n",
    "    \"e\": 10,\n",
    "    \"d\": 20,\n",
    "    \"c\": 30,\n",
    "    \"b\": 40,\n",
    "    \"a\": 50\n",
    "}\n",
    "grade_limit"
   ]
  },
  {
   "cell_type": "code",
   "execution_count": 12,
   "id": "f073221d",
   "metadata": {},
   "outputs": [
    {
     "name": "stdout",
     "output_type": "stream",
     "text": [
      "0 f\n",
      "1 e\n",
      "2 d\n",
      "3 c\n",
      "4 b\n",
      "5 a\n",
      "\n",
      "{'f': 0, 'e': 10, 'd': 20, 'c': 30, 'b': 40, 'a': 50}\n"
     ]
    }
   ],
   "source": [
    "# i = index, grade = keys\n",
    "# enumerate pairs them together\n",
    "\n",
    "# check the loop that will produce the dict comprehension\n",
    "for i, grade in enumerate(\"fedcba\"):\n",
    "    print(i, grade)\n",
    "\n",
    "print() \n",
    "print(grade_limit) "
   ]
  },
  {
   "cell_type": "code",
   "execution_count": 20,
   "id": "e4565bb3",
   "metadata": {},
   "outputs": [
    {
     "data": {
      "text/plain": [
       "{'f': 0, 'e': 10, 'd': 20, 'c': 30, 'b': 40, 'a': 50}"
      ]
     },
     "execution_count": 20,
     "metadata": {},
     "output_type": "execute_result"
    }
   ],
   "source": [
    "# Create the same dictionary but with dictionary comprehension\n",
    "\n",
    "# make us of iterables\n",
    "grade_limit = {grade: i*10 for i, grade in enumerate(\"fedcba\")}\n",
    "grade_limit"
   ]
  },
  {
   "cell_type": "code",
   "execution_count": null,
   "id": "7a35db4e",
   "metadata": {},
   "outputs": [],
   "source": []
  }
 ],
 "metadata": {
  "kernelspec": {
   "display_name": "Python 3",
   "language": "python",
   "name": "python3"
  },
  "language_info": {
   "codemirror_mode": {
    "name": "ipython",
    "version": 3
   },
   "file_extension": ".py",
   "mimetype": "text/x-python",
   "name": "python",
   "nbconvert_exporter": "python",
   "pygments_lexer": "ipython3",
   "version": "3.12.10"
  }
 },
 "nbformat": 4,
 "nbformat_minor": 5
}
