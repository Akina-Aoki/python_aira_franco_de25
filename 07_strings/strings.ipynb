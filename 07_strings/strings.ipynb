{
 "cells": [
  {
   "cell_type": "markdown",
   "id": "032bb04e",
   "metadata": {},
   "source": [
    "# Lecture 7: Strings\n",
    "<br>\n",
    "- string type variable created and printed in lecture 4: input_output <br>\n",
    "- string focus in this lecture"
   ]
  },
  {
   "cell_type": "markdown",
   "id": "1d865d1a",
   "metadata": {},
   "source": [
    "### concatenate strings\n",
    "- `+` operator to concatenate multiple strings\n",
    "- different function when dealing with numerical values"
   ]
  },
  {
   "cell_type": "code",
   "execution_count": 57,
   "id": "726a3c9d",
   "metadata": {},
   "outputs": [
    {
     "data": {
      "text/plain": [
       "'Kokchun Giang'"
      ]
     },
     "execution_count": 57,
     "metadata": {},
     "output_type": "execute_result"
    }
   ],
   "source": [
    "firstname = \"Kokchun\"\n",
    "lastname = \"Giang\"\n",
    "space = \" \"                             # created a space variable = \" \"\n",
    "fullname = firstname + space + lastname\n",
    "fullname"
   ]
  },
  {
   "cell_type": "markdown",
   "id": "88ec228c",
   "metadata": {},
   "source": [
    "### multiline f-string for concatinating multiple strings"
   ]
  },
  {
   "cell_type": "code",
   "execution_count": 58,
   "id": "359a4484",
   "metadata": {},
   "outputs": [
    {
     "name": "stdout",
     "output_type": "stream",
     "text": [
      "Kokchun Giang is working in a company called AIgineer AB. Address is Supah cool streeeeeeet.\n",
      "Kokchun Giang is working in a company called AIgineer AB. \n",
      "Address is Supah cool streeeeeeet.\n"
     ]
    }
   ],
   "source": [
    "work = \"AIgineer AB\"\n",
    "address = \"Supah cool streeeeeeet\"\n",
    "\n",
    "# f-string with one line\n",
    "print(f\"{fullname} is working in a company called {work}. Address is {address}.\")\n",
    "\n",
    "# f-string with multiline\n",
    "print(f\"\"\"{fullname} is working in a company called {work}. \n",
    "Address is {address}.\"\"\")"
   ]
  },
  {
   "cell_type": "markdown",
   "id": "e12e0c4c",
   "metadata": {},
   "source": [
    "### concatenate with loop"
   ]
  },
  {
   "cell_type": "code",
   "execution_count": 59,
   "id": "74276cd2",
   "metadata": {},
   "outputs": [
    {
     "name": "stdout",
     "output_type": "stream",
     "text": [
      "('apple', 'orange', 'strawberry')\n",
      "apple\n",
      "orange\n",
      "strawberry\n"
     ]
    }
   ],
   "source": [
    "fruits_today = \"apple\", \"orange\", \"strawberry\"\n",
    "print(f'{fruits_today}')\n",
    "\n",
    "fruits_today_list = [\"apple\", \"orange\", \"strawberry\"]\n",
    "for fruit in fruits_today_list:\n",
    "    print(fruit)\n"
   ]
  },
  {
   "cell_type": "markdown",
   "id": "2ac313ed",
   "metadata": {},
   "source": [
    "### Indexing\n",
    "- an operation to access an item\n",
    "- item in string context: one of the characters inside the string\n",
    "- use []\n",
    "- slicing is possible if we want to access multiple characters"
   ]
  },
  {
   "cell_type": "code",
   "execution_count": 60,
   "id": "da63ea5c",
   "metadata": {},
   "outputs": [
    {
     "name": "stdout",
     "output_type": "stream",
     "text": [
      "The first letter of the string is: K\n"
     ]
    }
   ],
   "source": [
    "# index\n",
    "fullname\n",
    "\n",
    "print(f'The first letter of the string is: {fullname[0]}')"
   ]
  },
  {
   "cell_type": "code",
   "execution_count": 61,
   "id": "24c6a052",
   "metadata": {},
   "outputs": [
    {
     "name": "stdout",
     "output_type": "stream",
     "text": [
      "The first 5 letters:Kokch\n",
      "Kokchun Giang\n",
      "The last 5 letters: gnaiG\n"
     ]
    }
   ],
   "source": [
    "# slicing\n",
    "print(f'The first 5 letters:{fullname[0:5]}')\n",
    "print(fullname)\n",
    "\n",
    "# reverse slicing\n",
    "print(f'The last 5 letters: {fullname[-1:-6:-1]}')"
   ]
  },
  {
   "cell_type": "code",
   "execution_count": 62,
   "id": "69f2ae1c",
   "metadata": {},
   "outputs": [
    {
     "name": "stdout",
     "output_type": "stream",
     "text": [
      "['carl', 'jane', 'celine'] ['124 41', '425 77', '425 67']\n",
      "['carl', 'jane', 'celine'] ['124 41', '425 77', '425 67']\n",
      "['carl', 'jane', 'celine'] ['124 41', '425 77', '425 67']\n"
     ]
    }
   ],
   "source": [
    "names = [\"carl\", \"jane\", \"celine\"]\n",
    "address = [\"124 41\", \"425 77\", \"425 67\"]\n",
    "\n",
    "for n, a in zip(names, address):\n",
    "    print(names, address)"
   ]
  },
  {
   "cell_type": "markdown",
   "id": "12c5e2ac",
   "metadata": {},
   "source": [
    "### imortant part for the lab 1 task: common methods to clean a string"
   ]
  },
  {
   "cell_type": "code",
   "execution_count": 63,
   "id": "20c6ff26",
   "metadata": {},
   "outputs": [
    {
     "data": {
      "text/plain": [
       "['Math', ' biology ', ' cHemMistry ', ' Programming    ']"
      ]
     },
     "execution_count": 63,
     "metadata": {},
     "output_type": "execute_result"
    }
   ],
   "source": [
    "# string splitting\n",
    "\n",
    "subjects = \"Math, biology , cHemMistry , Programming    \" \n",
    "\n",
    "subjects = subjects.split(\",\")    # split each string with the argument \",\"\n",
    "subjects\n",
    "\n",
    "\n"
   ]
  },
  {
   "cell_type": "code",
   "execution_count": 64,
   "id": "6ba5075e",
   "metadata": {},
   "outputs": [
    {
     "name": "stdout",
     "output_type": "stream",
     "text": [
      "Math\n",
      "biology\n",
      "cHemMistry\n",
      "Programming\n"
     ]
    }
   ],
   "source": [
    "# strip off leading and trailing space \n",
    "# .strip() is for both sides\n",
    "for subject in subjects:\n",
    "    print(subject.strip())\n",
    "\n"
   ]
  },
  {
   "cell_type": "code",
   "execution_count": 65,
   "id": "7096f6d9",
   "metadata": {},
   "outputs": [
    {
     "name": "stdout",
     "output_type": "stream",
     "text": [
      "Math\n",
      "biology \n",
      "cHemMistry \n",
      "Programming    \n"
     ]
    }
   ],
   "source": [
    "# lstrip() for both sides\n",
    "for subject in subjects:\n",
    "    print(subject.lstrip())\n",
    "    \n",
    "\n",
    "\n",
    "# this is also doable in a dictionary but either key or value, one at a time"
   ]
  },
  {
   "cell_type": "code",
   "execution_count": 66,
   "id": "32a333bb",
   "metadata": {},
   "outputs": [
    {
     "name": "stdout",
     "output_type": "stream",
     "text": [
      "4\n"
     ]
    }
   ],
   "source": [
    "# make an upper case letter\n",
    "\n",
    "#Initialize a variable 's' \n",
    "#to keep track of the string's length\n",
    "s = 0\n",
    "\n",
    "for i, subjects in enumerate(subjects):\n",
    "  # Increment 's' by 1 for each character in the string\n",
    "    s += 1\n",
    "print(s)\n"
   ]
  },
  {
   "cell_type": "markdown",
   "id": "3bd41007",
   "metadata": {},
   "source": []
  },
  {
   "cell_type": "markdown",
   "id": "ca16e930",
   "metadata": {},
   "source": [
    "### Regular expression\n",
    "- look for patterns\n",
    "- make use of different functions in `re` package\n",
    "- syntax of using function from an importen package\n",
    "- `re`.`findall()`\n",
    "- `imported_package.function`"
   ]
  },
  {
   "cell_type": "code",
   "execution_count": 67,
   "id": "2fb1ecc3",
   "metadata": {},
   "outputs": [],
   "source": [
    "import re\n"
   ]
  },
  {
   "cell_type": "code",
   "execution_count": 68,
   "id": "97ccf9e7",
   "metadata": {},
   "outputs": [
    {
     "data": {
      "text/plain": [
       "['att', 'att']"
      ]
     },
     "execution_count": 68,
     "metadata": {},
     "output_type": "execute_result"
    }
   ],
   "source": [
    "text = \"Det var en katt som tog på sig en hatt\"\n",
    "\n",
    "# find a pattern of how many times \"att\" shows up\n",
    "list_letter_att = re.findall(\"att\", text)\n",
    "list_letter_att\n"
   ]
  },
  {
   "cell_type": "code",
   "execution_count": 69,
   "id": "e63a4959",
   "metadata": {},
   "outputs": [
    {
     "data": {
      "text/plain": [
       "['katt', 'hatt']"
      ]
     },
     "execution_count": 69,
     "metadata": {},
     "output_type": "execute_result"
    }
   ],
   "source": [
    "# find a pattern of which words has \"att\"\n",
    "list_word_att = re.findall(\".att\", text)\n",
    "list_word_att"
   ]
  },
  {
   "cell_type": "code",
   "execution_count": 70,
   "id": "c864573c",
   "metadata": {},
   "outputs": [
    {
     "data": {
      "text/plain": [
       "['19950316']"
      ]
     },
     "execution_count": 70,
     "metadata": {},
     "output_type": "execute_result"
    }
   ],
   "source": [
    "# find 8 digits of personal number\n",
    "personal_number = \"Ida: 19950316-2235, Berit: 890806-3212\"\n",
    "\n",
    "personal_number_eight = re.findall(r\"\\d{8}\",personal_number)\n",
    "# `r` for raw string. Telling Python that it's looking for a pattern.\n",
    "# `{8}` look for m8 digits\n",
    "personal_number_eight"
   ]
  },
  {
   "cell_type": "code",
   "execution_count": 71,
   "id": "95eaecbb",
   "metadata": {},
   "outputs": [
    {
     "data": {
      "text/plain": [
       "['950316-2235', '890806-3212']"
      ]
     },
     "execution_count": 71,
     "metadata": {},
     "output_type": "execute_result"
    }
   ],
   "source": [
    "# find 6 digits of personal number, a -, then 4 digits together\n",
    "personal_number = \"Ida: 19950316-2235, Berit: 890806-3212\"\n",
    "\n",
    "personal_number_six = re.findall(r\"\\d{6}-\\d{4}\",personal_number)\n",
    "# `r` for raw string. Telling Python that it's looking for a pattern.\n",
    "# `{8}` look for m8 digits\n",
    "personal_number_six"
   ]
  },
  {
   "cell_type": "code",
   "execution_count": 72,
   "id": "e2fc959a",
   "metadata": {},
   "outputs": [
    {
     "data": {
      "text/plain": [
       "['19950316-2235']"
      ]
     },
     "execution_count": 72,
     "metadata": {},
     "output_type": "execute_result"
    }
   ],
   "source": [
    "# find 8 digits of personal number, a -, then 4 digits together\n",
    "personal_number = \"Ida: 19950316-2235, Berit: 890806-3212\"\n",
    "\n",
    "personal_number_six = re.findall(r\"\\d{8}-\\d{4}\",personal_number)\n",
    "# `r` for raw string. Telling Python that it's looking for a pattern.\n",
    "# `{8}` look for m8 digits\n",
    "personal_number_six"
   ]
  },
  {
   "cell_type": "code",
   "execution_count": null,
   "id": "90c5d904",
   "metadata": {},
   "outputs": [],
   "source": []
  }
 ],
 "metadata": {
  "kernelspec": {
   "display_name": "python_code_along",
   "language": "python",
   "name": "python3"
  },
  "language_info": {
   "codemirror_mode": {
    "name": "ipython",
    "version": 3
   },
   "file_extension": ".py",
   "mimetype": "text/x-python",
   "name": "python",
   "nbconvert_exporter": "python",
   "pygments_lexer": "ipython3",
   "version": "3.12.10"
  }
 },
 "nbformat": 4,
 "nbformat_minor": 5
}
