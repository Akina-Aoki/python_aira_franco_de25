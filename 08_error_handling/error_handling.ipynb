{
 "cells": [
  {
   "cell_type": "markdown",
   "id": "778d71a6",
   "metadata": {},
   "source": [
    "### Error Handling\n",
    "- add error handling for blocks of code that can encounter errors\n",
    "- to avoid program crashing\n",
    "- make use of `try-except` block \n"
   ]
  },
  {
   "cell_type": "code",
   "execution_count": 2,
   "id": "e45cd436",
   "metadata": {},
   "outputs": [
    {
     "ename": "NameError",
     "evalue": "name 'x' is not defined",
     "output_type": "error",
     "traceback": [
      "\u001b[31m---------------------------------------------------------------------------\u001b[39m",
      "\u001b[31mNameError\u001b[39m                                 Traceback (most recent call last)",
      "\u001b[36mCell\u001b[39m\u001b[36m \u001b[39m\u001b[32mIn[2]\u001b[39m\u001b[32m, line 2\u001b[39m\n\u001b[32m      1\u001b[39m \u001b[38;5;66;03m# the code crashes without the error handling\u001b[39;00m\n\u001b[32m----> \u001b[39m\u001b[32m2\u001b[39m \u001b[38;5;28mprint\u001b[39m(\u001b[43mx\u001b[49m)\n",
      "\u001b[31mNameError\u001b[39m: name 'x' is not defined"
     ]
    }
   ],
   "source": [
    "# the code crashes without the error handling\n",
    "print(x)"
   ]
  },
  {
   "cell_type": "markdown",
   "id": "90c310c7",
   "metadata": {},
   "source": []
  },
  {
   "cell_type": "code",
   "execution_count": null,
   "id": "c95b461c",
   "metadata": {},
   "outputs": [
    {
     "name": "stdout",
     "output_type": "stream",
     "text": [
      "There is an error in the try block\n"
     ]
    }
   ],
   "source": [
    "# add try except\n",
    "try:\n",
    "    # put the potentially problematic block of code\n",
    "    print(x)\n",
    "except:\n",
    "    # when the try block encounters an error, program runs the except block instead of crashing\n",
    "    print(\"There is an error in the try block\")\n",
    "    "
   ]
  },
  {
   "cell_type": "markdown",
   "id": "22a646ec",
   "metadata": {},
   "source": [
    "#### NameError"
   ]
  },
  {
   "cell_type": "code",
   "execution_count": 9,
   "id": "81a2ec15",
   "metadata": {},
   "outputs": [
    {
     "name": "stdout",
     "output_type": "stream",
     "text": [
      "Variable x is not defined yet\n"
     ]
    }
   ],
   "source": [
    "# create multiple except blocks\n",
    "try:\n",
    "    print(x)\n",
    "\n",
    "# if NameError is encountered    \n",
    "except NameError:\n",
    "    print(\"Variable x is not defined yet\")\n",
    "\n",
    "except:\n",
    "    print(\"Some other error happened\")"
   ]
  },
  {
   "cell_type": "markdown",
   "id": "3f248e4a",
   "metadata": {},
   "source": [
    "#### Zero Division Error"
   ]
  },
  {
   "cell_type": "code",
   "execution_count": 10,
   "id": "c24310ec",
   "metadata": {},
   "outputs": [
    {
     "ename": "ZeroDivisionError",
     "evalue": "division by zero",
     "output_type": "error",
     "traceback": [
      "\u001b[31m---------------------------------------------------------------------------\u001b[39m",
      "\u001b[31mZeroDivisionError\u001b[39m                         Traceback (most recent call last)",
      "\u001b[36mCell\u001b[39m\u001b[36m \u001b[39m\u001b[32mIn[10]\u001b[39m\u001b[32m, line 1\u001b[39m\n\u001b[32m----> \u001b[39m\u001b[32m1\u001b[39m \u001b[38;5;28mprint\u001b[39m(\u001b[32;43m8\u001b[39;49m\u001b[43m/\u001b[49m\u001b[32;43m0\u001b[39;49m)\n",
      "\u001b[31mZeroDivisionError\u001b[39m: division by zero"
     ]
    }
   ],
   "source": [
    "print(8/0)"
   ]
  },
  {
   "cell_type": "code",
   "execution_count": 12,
   "id": "3b10cf57",
   "metadata": {},
   "outputs": [
    {
     "name": "stdout",
     "output_type": "stream",
     "text": [
      "This is  ZeroDivisionError\n"
     ]
    }
   ],
   "source": [
    "try:\n",
    "    print(8/0)\n",
    "except NameError:\n",
    "    print(\"This is a NameError\")\n",
    "except ZeroDivisionError:\n",
    "    print(\"This is  ZeroDivisionError\")\n",
    "except:\n",
    "    print(\"There is another error\")"
   ]
  },
  {
   "cell_type": "code",
   "execution_count": 14,
   "id": "69d262ec",
   "metadata": {},
   "outputs": [
    {
     "name": "stdout",
     "output_type": "stream",
     "text": [
      "There is a NameError\n"
     ]
    }
   ],
   "source": [
    "try:\n",
    "    print(x)\n",
    "except NameError as err:\n",
    "    print(\"There is a NameError\")\n",
    "except:\n",
    "    print(\"Something else\")\n"
   ]
  },
  {
   "cell_type": "code",
   "execution_count": null,
   "id": "34abc02d",
   "metadata": {},
   "outputs": [],
   "source": []
  }
 ],
 "metadata": {
  "kernelspec": {
   "display_name": "python_code_along",
   "language": "python",
   "name": "python3"
  },
  "language_info": {
   "codemirror_mode": {
    "name": "ipython",
    "version": 3
   },
   "file_extension": ".py",
   "mimetype": "text/x-python",
   "name": "python",
   "nbconvert_exporter": "python",
   "pygments_lexer": "ipython3",
   "version": "3.12.10"
  }
 },
 "nbformat": 4,
 "nbformat_minor": 5
}
