{
 "cells": [
  {
   "cell_type": "markdown",
   "id": "6fdf2908",
   "metadata": {},
   "source": [
    "# Lecture 6a - List\n",
    "\n",
    "- one of the collection data type/iterables\n",
    "- used for storing several items in a variable\n",
    "- for collection data typle, learning:\n",
    "characteristics,\n",
    "available operation"
   ]
  },
  {
   "cell_type": "markdown",
   "id": "ed654d60",
   "metadata": {},
   "source": []
  },
  {
   "cell_type": "markdown",
   "id": "8bb138c7",
   "metadata": {},
   "source": [
    "#### Create a list"
   ]
  },
  {
   "cell_type": "code",
   "execution_count": null,
   "id": "36105ea1",
   "metadata": {},
   "outputs": [],
   "source": [
    "tv_shows = [\"Antique show\", \"Master Chef\", \"News\", \"Talent\"]\n",
    "tv_shows"
   ]
  },
  {
   "cell_type": "markdown",
   "id": "985a0823",
   "metadata": {},
   "source": []
  },
  {
   "cell_type": "markdown",
   "id": "29724622",
   "metadata": {},
   "source": [
    "#### Access an item / Indexing"
   ]
  },
  {
   "cell_type": "code",
   "execution_count": null,
   "id": "948b14cd",
   "metadata": {},
   "outputs": [
    {
     "data": {
      "text/plain": [
       "'Talent'"
      ]
     },
     "execution_count": 2,
     "metadata": {},
     "output_type": "execute_result"
    }
   ],
   "source": [
    "# last item\n",
    "tv_shows = [\"Antique show\", \"Master Chef\", \"News\", \"Talent\"]\n",
    "last_index = len(tv_shows) -1\n",
    "tv_shows[last_index]"
   ]
  },
  {
   "cell_type": "code",
   "execution_count": 3,
   "id": "7ff2ebf9",
   "metadata": {},
   "outputs": [
    {
     "data": {
      "text/plain": [
       "'Talent'"
      ]
     },
     "execution_count": 3,
     "metadata": {},
     "output_type": "execute_result"
    }
   ],
   "source": [
    "tv_shows[-1]"
   ]
  },
  {
   "cell_type": "markdown",
   "id": "d1ff1390",
   "metadata": {},
   "source": [
    "#### Append new value to list"
   ]
  },
  {
   "cell_type": "code",
   "execution_count": 5,
   "id": "f1ef801f",
   "metadata": {},
   "outputs": [
    {
     "data": {
      "text/plain": [
       "['Antique show', 'Master Chef', 'News', 'Talent', 'Pokemon']"
      ]
     },
     "execution_count": 5,
     "metadata": {},
     "output_type": "execute_result"
    }
   ],
   "source": [
    "tv_shows.append(\"Pokemon\")\n",
    "tv_shows"
   ]
  },
  {
   "cell_type": "markdown",
   "id": "7cb64a14",
   "metadata": {},
   "source": []
  },
  {
   "cell_type": "markdown",
   "id": "465c02c2",
   "metadata": {},
   "source": [
    "#### Iterate through a list"
   ]
  },
  {
   "cell_type": "code",
   "execution_count": 4,
   "id": "8a825162",
   "metadata": {},
   "outputs": [
    {
     "name": "stdout",
     "output_type": "stream",
     "text": [
      "Antique show\n",
      "Master Chef\n",
      "News\n",
      "Talent\n"
     ]
    }
   ],
   "source": [
    "for tv_show in tv_shows:    #an intermediate variable created when running the for loop\n",
    "    print(tv_show)"
   ]
  },
  {
   "cell_type": "markdown",
   "id": "0cef1009",
   "metadata": {},
   "source": [
    "####  slicing\n"
   ]
  },
  {
   "cell_type": "code",
   "execution_count": 8,
   "id": "46dc3873",
   "metadata": {},
   "outputs": [
    {
     "data": {
      "text/plain": [
       "['Antique show', 'Master Chef']"
      ]
     },
     "execution_count": 8,
     "metadata": {},
     "output_type": "execute_result"
    }
   ],
   "source": [
    "# Access first 2 items\n",
    "tv_shows[0:2]"
   ]
  },
  {
   "cell_type": "markdown",
   "id": "e7402026",
   "metadata": {},
   "source": [
    "#### sort() list\n",
    "Ascending order"
   ]
  },
  {
   "cell_type": "code",
   "execution_count": 10,
   "id": "1db6071c",
   "metadata": {},
   "outputs": [
    {
     "data": {
      "text/plain": [
       "['Antique show', 'Master Chef', 'News', 'Pokemon', 'Talent']"
      ]
     },
     "execution_count": 10,
     "metadata": {},
     "output_type": "execute_result"
    }
   ],
   "source": [
    "tv_shows.sort()\n",
    "tv_shows"
   ]
  },
  {
   "cell_type": "markdown",
   "id": "4e7ed332",
   "metadata": {},
   "source": [
    "descending order"
   ]
  },
  {
   "cell_type": "code",
   "execution_count": 11,
   "id": "debb88e6",
   "metadata": {},
   "outputs": [
    {
     "data": {
      "text/plain": [
       "['Talent', 'Pokemon', 'News', 'Master Chef', 'Antique show']"
      ]
     },
     "execution_count": 11,
     "metadata": {},
     "output_type": "execute_result"
    }
   ],
   "source": [
    "tv_shows.sort(reverse = True)\n",
    "tv_shows\n"
   ]
  },
  {
   "cell_type": "markdown",
   "id": "58a1e905",
   "metadata": {},
   "source": []
  },
  {
   "cell_type": "markdown",
   "id": "f86d19ba",
   "metadata": {},
   "source": [
    "#### Create a list by list comprehension\n",
    "- clean code to create list when creating a list from another iterable"
   ]
  },
  {
   "cell_type": "code",
   "execution_count": 13,
   "id": "1a364332",
   "metadata": {},
   "outputs": [
    {
     "data": {
      "text/plain": [
       "[1, 8, 27, 64, 125, 216, 343, 512, 729]"
      ]
     },
     "execution_count": 13,
     "metadata": {},
     "output_type": "execute_result"
    }
   ],
   "source": [
    "'''sample: \n",
    "1, 2, 3, 4, 5 ...\n",
    "1*1*1, 2*2*2, 3*3*3, ...\n",
    "'''\n",
    "\n",
    "cubes = [x **3 for x in range (1, 10)]\n",
    "cubes"
   ]
  },
  {
   "cell_type": "markdown",
   "id": "653f4669",
   "metadata": {},
   "source": []
  }
 ],
 "metadata": {
  "kernelspec": {
   "display_name": ".venv",
   "language": "python",
   "name": "python3"
  },
  "language_info": {
   "codemirror_mode": {
    "name": "ipython",
    "version": 3
   },
   "file_extension": ".py",
   "mimetype": "text/x-python",
   "name": "python",
   "nbconvert_exporter": "python",
   "pygments_lexer": "ipython3",
   "version": "3.12.10"
  }
 },
 "nbformat": 4,
 "nbformat_minor": 5
}
