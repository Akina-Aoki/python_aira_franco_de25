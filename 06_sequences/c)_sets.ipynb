{
 "cells": [
  {
   "cell_type": "markdown",
   "id": "fee60c02",
   "metadata": {},
   "source": [
    "# Lecture 6c - Tuples\n",
    "- union\n",
    "- intersect\n",
    "- except\n"
   ]
  },
  {
   "cell_type": "markdown",
   "id": "c377f6e4",
   "metadata": {},
   "source": []
  },
  {
   "cell_type": "code",
   "execution_count": 3,
   "id": "bf9a3966",
   "metadata": {},
   "outputs": [
    {
     "data": {
      "text/plain": [
       "{'black',\n",
       " 'blue',\n",
       " 'green',\n",
       " 'indigo',\n",
       " 'orange',\n",
       " 'pink',\n",
       " 'purple',\n",
       " 'red',\n",
       " 'violet',\n",
       " 'white',\n",
       " 'yellow'}"
      ]
     },
     "execution_count": 3,
     "metadata": {},
     "output_type": "execute_result"
    }
   ],
   "source": [
    "colors = {\"blue\", \"red\", \"orange\", \"green\", \"violet\", \"blue\", \"indigo\", \"black\", \"white\", \"blue\", \"red\", \"red\", \"pink\", \"white\", \"purple\", \"yellow\"}\n",
    "colors = set(colors)\n",
    "colors"
   ]
  },
  {
   "cell_type": "markdown",
   "id": "11e1492d",
   "metadata": {},
   "source": [
    "#### intersect\n",
    "- common values from different sets"
   ]
  },
  {
   "cell_type": "code",
   "execution_count": null,
   "id": "325cca77",
   "metadata": {},
   "outputs": [
    {
     "data": {
      "text/plain": [
       "{'bob', 'carla', 'mark'}"
      ]
     },
     "execution_count": 5,
     "metadata": {},
     "output_type": "execute_result"
    }
   ],
   "source": [
    "january = {\"alice\", \"carla\", \"bob\", \"daniel\", \"mark\", \"jenny\"}\n",
    "february = {\"bob\", \"john\", \"carla\", \"chelsea\", \"kate\", \"mark\"}\n",
    "\n",
    "repeaters = january.intersection(february)\n",
    "repeaters"
   ]
  },
  {
   "cell_type": "markdown",
   "id": "11c31e2f",
   "metadata": {},
   "source": [
    "#### union \n",
    "- union of two sets"
   ]
  },
  {
   "cell_type": "code",
   "execution_count": 6,
   "id": "cf0d1222",
   "metadata": {},
   "outputs": [
    {
     "data": {
      "text/plain": [
       "{'alice', 'bob', 'carla', 'chelsea', 'daniel', 'jenny', 'john', 'kate', 'mark'}"
      ]
     },
     "execution_count": 6,
     "metadata": {},
     "output_type": "execute_result"
    }
   ],
   "source": [
    "all = january.union(february)\n",
    "all"
   ]
  },
  {
   "cell_type": "markdown",
   "id": "5b10dbae",
   "metadata": {},
   "source": [
    "#### except\n",
    "- excluding"
   ]
  },
  {
   "cell_type": "code",
   "execution_count": 7,
   "id": "ba8b949f",
   "metadata": {},
   "outputs": [
    {
     "data": {
      "text/plain": [
       "{'alice', 'chelsea', 'daniel', 'jenny', 'john', 'kate'}"
      ]
     },
     "execution_count": 7,
     "metadata": {},
     "output_type": "execute_result"
    }
   ],
   "source": [
    "once = all - repeaters\n",
    "once"
   ]
  },
  {
   "cell_type": "code",
   "execution_count": null,
   "id": "8d9bb05f",
   "metadata": {},
   "outputs": [],
   "source": []
  }
 ],
 "metadata": {
  "kernelspec": {
   "display_name": ".venv",
   "language": "python",
   "name": "python3"
  },
  "language_info": {
   "codemirror_mode": {
    "name": "ipython",
    "version": 3
   },
   "file_extension": ".py",
   "mimetype": "text/x-python",
   "name": "python",
   "nbconvert_exporter": "python",
   "pygments_lexer": "ipython3",
   "version": "3.12.10"
  }
 },
 "nbformat": 4,
 "nbformat_minor": 5
}
