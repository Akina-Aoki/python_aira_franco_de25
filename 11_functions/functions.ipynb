{
 "cells": [
  {
   "cell_type": "markdown",
   "id": "cdbe94b5",
   "metadata": {},
   "source": [
    "# Lecture 11: Functions\n",
    "for resuable code"
   ]
  },
  {
   "cell_type": "markdown",
   "id": "5576f6a6",
   "metadata": {},
   "source": [
    "#### Difference between **parameters** and **arguments**\n",
    "`name` is a parameter (the function’s variable)\n",
    "\n",
    "\"Alice\" is an argument (the actual value you give)"
   ]
  },
  {
   "cell_type": "code",
   "execution_count": 26,
   "id": "523d4b03",
   "metadata": {},
   "outputs": [
    {
     "name": "stdout",
     "output_type": "stream",
     "text": [
      "Hello Alice\n"
     ]
    }
   ],
   "source": [
    "def greet(name):\n",
    "    print(\"Hello\", name)\n",
    "\n",
    "greet(\"Alice\")\n"
   ]
  },
  {
   "cell_type": "markdown",
   "id": "4fa884c9",
   "metadata": {},
   "source": [
    "#### Create a function"
   ]
  },
  {
   "cell_type": "code",
   "execution_count": 27,
   "id": "38004b07",
   "metadata": {},
   "outputs": [],
   "source": [
    "# simple function sample\n",
    "def squarer(x):          # use keyword def; function name; x is the parameter, parameter is a placeholder\n",
    "    result = x ** 2      # statements; action inside def to execute\n",
    "    return result        # the output"
   ]
  },
  {
   "cell_type": "code",
   "execution_count": 28,
   "id": "631fcc14",
   "metadata": {},
   "outputs": [
    {
     "data": {
      "text/plain": [
       "4"
      ]
     },
     "execution_count": 28,
     "metadata": {},
     "output_type": "execute_result"
    }
   ],
   "source": [
    "# call the \"squarer function\"\n",
    "squarer(2)       # cite the function; () callable; argument is the value which is the one the user provides"
   ]
  },
  {
   "cell_type": "code",
   "execution_count": 29,
   "id": "66d278de",
   "metadata": {},
   "outputs": [
    {
     "data": {
      "text/plain": [
       "1"
      ]
     },
     "execution_count": 29,
     "metadata": {},
     "output_type": "execute_result"
    }
   ],
   "source": [
    "squarer(1)"
   ]
  },
  {
   "cell_type": "markdown",
   "id": "3d848ef1",
   "metadata": {},
   "source": [
    "### Different types of parameters\n",
    "#### 1. Positional arguments\n",
    "Tracking arguments based on their positions"
   ]
  },
  {
   "cell_type": "code",
   "execution_count": 30,
   "id": "f129d80a",
   "metadata": {},
   "outputs": [],
   "source": [
    "# consider the order of the arguments\n",
    "\n",
    "# 2 arguments\n",
    "def my_fruits(fruit_like, fruit_hate):\n",
    "    print(f\"I like to eat {fruit_like}\")\n",
    "    print(f\"But I hate to eat {fruit_hate}\")\n",
    "    return None                         # dont need to calculate something; python will add this line if you don't have reutn block\n",
    "\n"
   ]
  },
  {
   "cell_type": "code",
   "execution_count": 31,
   "id": "1cff6492",
   "metadata": {},
   "outputs": [
    {
     "name": "stdout",
     "output_type": "stream",
     "text": [
      "I like to eat apple\n",
      "But I hate to eat orange\n"
     ]
    }
   ],
   "source": [
    "# suppose orange = like, apple = hate\n",
    "# check the order issue of the 2 arguments below\n",
    "my_fruits(\"apple\", \"orange\")"
   ]
  },
  {
   "cell_type": "markdown",
   "id": "8dbdbda1",
   "metadata": {},
   "source": [
    "#### 2. Keyword arguments\n",
    "- Used to easily track multiple arguments without losing track of the positions\n",
    "- Parameter names are provided\n",
    "- Python doesn't look at the argument positions any more"
   ]
  },
  {
   "cell_type": "code",
   "execution_count": 32,
   "id": "bf760eb9",
   "metadata": {},
   "outputs": [
    {
     "name": "stdout",
     "output_type": "stream",
     "text": [
      "I like to eat orange\n",
      "But I hate to eat apple\n"
     ]
    }
   ],
   "source": [
    "my_fruits(fruit_hate = \"apple\", fruit_like = \"orange\")"
   ]
  },
  {
   "cell_type": "code",
   "execution_count": 33,
   "id": "cdb69178",
   "metadata": {},
   "outputs": [
    {
     "ename": "TypeError",
     "evalue": "my_fruits() takes 2 positional arguments but 3 were given",
     "output_type": "error",
     "traceback": [
      "\u001b[31m---------------------------------------------------------------------------\u001b[39m",
      "\u001b[31mTypeError\u001b[39m                                 Traceback (most recent call last)",
      "\u001b[36mCell\u001b[39m\u001b[36m \u001b[39m\u001b[32mIn[33]\u001b[39m\u001b[32m, line 2\u001b[39m\n\u001b[32m      1\u001b[39m \u001b[38;5;66;03m# Provide another argument\u001b[39;00m\n\u001b[32m----> \u001b[39m\u001b[32m2\u001b[39m \u001b[43mmy_fruits\u001b[49m\u001b[43m(\u001b[49m\u001b[33;43m\"\u001b[39;49m\u001b[33;43mapple\u001b[39;49m\u001b[33;43m\"\u001b[39;49m\u001b[43m,\u001b[49m\u001b[43m \u001b[49m\u001b[33;43m\"\u001b[39;49m\u001b[33;43morange\u001b[39;49m\u001b[33;43m\"\u001b[39;49m\u001b[43m,\u001b[49m\u001b[43m \u001b[49m\u001b[33;43m\"\u001b[39;49m\u001b[33;43mstrawberry\u001b[39;49m\u001b[33;43m\"\u001b[39;49m\u001b[43m)\u001b[49m\n",
      "\u001b[31mTypeError\u001b[39m: my_fruits() takes 2 positional arguments but 3 were given"
     ]
    }
   ],
   "source": [
    "# Provide another argument\n",
    "my_fruits(\"apple\", \"orange\", \"strawberry\")\n"
   ]
  },
  {
   "cell_type": "markdown",
   "id": "924d7729",
   "metadata": {},
   "source": [
    "#### 3. Unknown number of positional arguments\n",
    "- From the error sample above: TypeError: my_fruits() takes 2 positional arguments but 3 were given\n",
    "<br> then unknown number of positional arguments is the best fit.\n",
    "\n",
    "- Print out all fruits that are inputed as arguments to a function\n",
    "<br>\n",
    "<br> Symbol is used `*` corresponding to positional arguments\n",
    "1. Positional arguments - no need to provide parameter name when called for the function\n",
    "2. No limits on how many arguments are put in\n",
    "\n"
   ]
  },
  {
   "cell_type": "code",
   "execution_count": null,
   "id": "5c8b28f4",
   "metadata": {},
   "outputs": [],
   "source": [
    "# * has 2 meanings: positional arguments, the nr of arguments will be unknown\n",
    "\n",
    "def print_fruits(*fruits):\n",
    "    for fruit in fruits:\n",
    "        print(fruit)"
   ]
  },
  {
   "cell_type": "code",
   "execution_count": null,
   "id": "04b9dbf0",
   "metadata": {},
   "outputs": [
    {
     "name": "stdout",
     "output_type": "stream",
     "text": [
      "apple\n",
      "orange\n",
      "strawberry\n"
     ]
    }
   ],
   "source": [
    "# call for print_fruits\n",
    "print_fruits(\"apple\", \"orange\", \"strawberry\")"
   ]
  },
  {
   "cell_type": "markdown",
   "id": "849942bc",
   "metadata": {},
   "source": [
    "`*args` → for unknown number of positional arguments"
   ]
  },
  {
   "cell_type": "code",
   "execution_count": null,
   "id": "87af887b",
   "metadata": {},
   "outputs": [
    {
     "name": "stdout",
     "output_type": "stream",
     "text": [
      "(2, 4, 6)\n"
     ]
    }
   ],
   "source": [
    "def add_numbers(*args):\n",
    "    print(args)\n",
    "\n",
    "add_numbers(2, 4, 6)"
   ]
  },
  {
   "cell_type": "markdown",
   "id": "8da0f9e5",
   "metadata": {},
   "source": [
    "#### 4. Unknown number of keyword arguments\n",
    "`**kwargs` → for unknown number of keyword arguments\n",
    "<br> kwargs is a dictionary containing all the named arguments\n",
    "<br>The `.items()` method returns both keys and values together — as pairs."
   ]
  },
  {
   "cell_type": "code",
   "execution_count": null,
   "id": "998b6ccc",
   "metadata": {},
   "outputs": [],
   "source": [
    "def print_nr_fruits(**fruits):\n",
    "    for key, value in fruits.items():\n",
    "        print(key, value)\n",
    "        return type(fruits)"
   ]
  },
  {
   "cell_type": "code",
   "execution_count": null,
   "id": "d7c63f02",
   "metadata": {},
   "outputs": [
    {
     "name": "stdout",
     "output_type": "stream",
     "text": [
      "fruit1 orange\n"
     ]
    },
    {
     "data": {
      "text/plain": [
       "dict"
      ]
     },
     "execution_count": 34,
     "metadata": {},
     "output_type": "execute_result"
    }
   ],
   "source": [
    "# key must be provided when calling for the function\n",
    "\n",
    "print_nr_fruits(fruit1 = \"orange\", fruit2 = \"apple\")"
   ]
  },
  {
   "cell_type": "code",
   "execution_count": null,
   "id": "7fa63093",
   "metadata": {},
   "outputs": [
    {
     "name": "stdout",
     "output_type": "stream",
     "text": [
      "{'name': 'Alice', 'age': 25, 'city': 'Paris'}\n"
     ]
    }
   ],
   "source": [
    "# These are arguments with names (key=value pairs).\n",
    "\n",
    "def show_info(**kwargs):\n",
    "    print(kwargs)\n",
    "\n",
    "show_info(name=\"Alice\", age=25, city=\"Paris\")\n"
   ]
  },
  {
   "cell_type": "code",
   "execution_count": null,
   "id": "c8bb958b",
   "metadata": {},
   "outputs": [
    {
     "name": "stdout",
     "output_type": "stream",
     "text": [
      "name: Bob\n",
      "hobby: guitar\n",
      "country: USA\n"
     ]
    }
   ],
   "source": [
    "def show_info(**kwargs):\n",
    "    for key, value in kwargs.items():\n",
    "        print(f\"{key}: {value}\")\n",
    "\n",
    "show_info(name=\"Bob\", hobby=\"guitar\", country=\"USA\")\n"
   ]
  },
  {
   "cell_type": "code",
   "execution_count": null,
   "id": "4584fb88",
   "metadata": {},
   "outputs": [],
   "source": []
  }
 ],
 "metadata": {
  "kernelspec": {
   "display_name": "python_code_along",
   "language": "python",
   "name": "python3"
  },
  "language_info": {
   "codemirror_mode": {
    "name": "ipython",
    "version": 3
   },
   "file_extension": ".py",
   "mimetype": "text/x-python",
   "name": "python",
   "nbconvert_exporter": "python",
   "pygments_lexer": "ipython3",
   "version": "3.12.10"
  }
 },
 "nbformat": 4,
 "nbformat_minor": 5
}
