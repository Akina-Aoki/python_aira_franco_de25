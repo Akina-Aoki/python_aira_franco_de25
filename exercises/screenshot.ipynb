{
 "cells": [
  {
   "cell_type": "markdown",
   "id": "3a0f6b09",
   "metadata": {},
   "source": [
    "![\n",
    "](attachment:image.png)"
   ]
  },
  {
   "cell_type": "markdown",
   "id": "fed33434",
   "metadata": {},
   "source": []
  }
 ],
 "metadata": {
  "language_info": {
   "name": "python"
  }
 },
 "nbformat": 4,
 "nbformat_minor": 5
}
