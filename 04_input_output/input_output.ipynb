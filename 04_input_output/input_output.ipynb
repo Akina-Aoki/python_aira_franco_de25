{
 "cells": [
  {
   "cell_type": "markdown",
   "id": "27f03551",
   "metadata": {},
   "source": [
    "# Lecture 4 - input, output and variables"
   ]
  },
  {
   "cell_type": "markdown",
   "id": "4543ff9e",
   "metadata": {},
   "source": [
    "### Print statement"
   ]
  },
  {
   "cell_type": "code",
   "execution_count": 1,
   "id": "bd72558d",
   "metadata": {},
   "outputs": [
    {
     "name": "stdout",
     "output_type": "stream",
     "text": [
      "Hello\n"
     ]
    }
   ],
   "source": [
    "# hashtag to comment\n",
    "print(\"Hello\")\n",
    "\n"
   ]
  },
  {
   "cell_type": "markdown",
   "id": "420602cb",
   "metadata": {},
   "source": [
    "To print out strings and variables"
   ]
  },
  {
   "cell_type": "code",
   "execution_count": 2,
   "id": "8e295ce8",
   "metadata": {},
   "outputs": [
    {
     "name": "stdout",
     "output_type": "stream",
     "text": [
      "Hello Aira\n"
     ]
    }
   ],
   "source": [
    "# Create a name variable\n",
    "name = \"Aira\"\n",
    "\n",
    "# print but hello to this person specified in the variable name\n",
    "# f-string to combine strings and variables together\n",
    "print (f'Hello {name}')"
   ]
  },
  {
   "cell_type": "markdown",
   "id": "c0bef254",
   "metadata": {},
   "source": []
  },
  {
   "cell_type": "markdown",
   "id": "caef056f",
   "metadata": {},
   "source": [
    "### Variables\n",
    "\n",
    "- can store different types of data in a variable - assign value to variable\n",
    "\n",
    "- can use data by referring to the variable instead"
   ]
  },
  {
   "cell_type": "markdown",
   "id": "33f052e0",
   "metadata": {},
   "source": []
  },
  {
   "cell_type": "code",
   "execution_count": 3,
   "id": "fe448bb7",
   "metadata": {},
   "outputs": [],
   "source": [
    "# string\n",
    "first_name = \"Aira\"\n",
    "\n",
    "# numeric\n",
    "height = 200\n",
    "\n",
    "# float\n",
    "exact_height = 200.1"
   ]
  },
  {
   "cell_type": "markdown",
   "id": "75f10006",
   "metadata": {},
   "source": [
    "### Inout from users"
   ]
  },
  {
   "cell_type": "code",
   "execution_count": null,
   "id": "3d99bf7c",
   "metadata": {},
   "outputs": [
    {
     "name": "stdout",
     "output_type": "stream",
     "text": [
      "Hello aira.29 years old.\n"
     ]
    }
   ],
   "source": [
    "name = input(\"What is your name?\")\n",
    "age = input(\"What is your age?\")\n",
    "print (f'Hello {name}. {age} years old.')\n"
   ]
  },
  {
   "cell_type": "markdown",
   "id": "667af0a4",
   "metadata": {},
   "source": [
    "### Type coercion / Type conversion\n",
    "\n",
    "- Converting data types from one to another"
   ]
  },
  {
   "cell_type": "code",
   "execution_count": 9,
   "id": "eb16ea52",
   "metadata": {},
   "outputs": [
    {
     "name": "stdout",
     "output_type": "stream",
     "text": [
      "<class 'str'>\n",
      "29\n"
     ]
    }
   ],
   "source": [
    "# double check the data type and variable\n",
    "# .ipynb only shows last line of code by default\n",
    "# use print() to force tp display the output\n",
    "print(type(age))\n",
    "print(age)"
   ]
  },
  {
   "cell_type": "code",
   "execution_count": 11,
   "id": "8d7dce5d",
   "metadata": {},
   "outputs": [
    {
     "name": "stdout",
     "output_type": "stream",
     "text": [
      "<class 'int'>\n"
     ]
    }
   ],
   "source": [
    "# convert age to int\n",
    "age_int = int(age)\n",
    "\n",
    "print(type(age_int))"
   ]
  },
  {
   "cell_type": "code",
   "execution_count": 12,
   "id": "2511bc16",
   "metadata": {},
   "outputs": [
    {
     "name": "stdout",
     "output_type": "stream",
     "text": [
      "<class 'bool'>\n"
     ]
    }
   ],
   "source": [
    "# string\n",
    "first_name = \"Aira\"\n",
    "\n",
    "# numeric\n",
    "height = 200\n",
    "\n",
    "# float\n",
    "exact_height = 200.1\n",
    "\n",
    "#bool\n",
    "is_teacher = True\n",
    "\n",
    "print (type(is_teacher))"
   ]
  },
  {
   "cell_type": "code",
   "execution_count": null,
   "id": "78cb766c",
   "metadata": {},
   "outputs": [],
   "source": []
  }
 ],
 "metadata": {
  "kernelspec": {
   "display_name": "python_code_along",
   "language": "python",
   "name": "python3"
  },
  "language_info": {
   "codemirror_mode": {
    "name": "ipython",
    "version": 3
   },
   "file_extension": ".py",
   "mimetype": "text/x-python",
   "name": "python",
   "nbconvert_exporter": "python",
   "pygments_lexer": "ipython3",
   "version": "3.12.10"
  }
 },
 "nbformat": 4,
 "nbformat_minor": 5
}
