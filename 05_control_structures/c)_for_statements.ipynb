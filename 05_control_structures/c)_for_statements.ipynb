{
 "cells": [
  {
   "cell_type": "markdown",
   "id": "11058e01",
   "metadata": {},
   "source": [
    "# Lecture 5c - for loop\n",
    "\n",
    "- loop through the same block of code for several times\n",
    "- number of looping times is KNOWN"
   ]
  },
  {
   "cell_type": "markdown",
   "id": "a33fe040",
   "metadata": {},
   "source": [
    "##### range() fuction\n",
    "\n",
    "- with only one argument, like range (5), end argument\n",
    "- default is 0, default step is 1\n",
    "- with three arguments, like range(1, 5, 1) : start, end, step argument"
   ]
  },
  {
   "cell_type": "code",
   "execution_count": 1,
   "id": "1146f6b0",
   "metadata": {},
   "outputs": [
    {
     "name": "stdout",
     "output_type": "stream",
     "text": [
      "0\n",
      "1\n",
      "2\n",
      "3\n",
      "4\n"
     ]
    }
   ],
   "source": [
    "for i in range (5):\n",
    "    print(i)"
   ]
  },
  {
   "cell_type": "code",
   "execution_count": 1,
   "id": "e8228acc",
   "metadata": {},
   "outputs": [
    {
     "name": "stdout",
     "output_type": "stream",
     "text": [
      "1\n",
      "3\n"
     ]
    }
   ],
   "source": [
    "for i in range (1, 5, 2):\n",
    "    print(i)"
   ]
  },
  {
   "cell_type": "code",
   "execution_count": 3,
   "id": "3a92fffa",
   "metadata": {},
   "outputs": [
    {
     "name": "stdout",
     "output_type": "stream",
     "text": [
      "1 3 "
     ]
    }
   ],
   "source": [
    "# spacing between the numbers horizontally\n",
    "for i in range (1, 5, 2):\n",
    "    print(i, end = \" \")"
   ]
  },
  {
   "cell_type": "markdown",
   "id": "511c43ec",
   "metadata": {},
   "source": []
  },
  {
   "cell_type": "markdown",
   "id": "25466daf",
   "metadata": {},
   "source": [
    "#### radnom module"
   ]
  },
  {
   "cell_type": "code",
   "execution_count": 1,
   "id": "1d111133",
   "metadata": {},
   "outputs": [],
   "source": [
    "import random as rnd"
   ]
  },
  {
   "cell_type": "code",
   "execution_count": 2,
   "id": "09706d23",
   "metadata": {},
   "outputs": [
    {
     "data": {
      "text/plain": [
       "2"
      ]
     },
     "execution_count": 2,
     "metadata": {},
     "output_type": "execute_result"
    }
   ],
   "source": [
    "# generate a dice result\n",
    "dice_result = rnd.randint(1,6)    # use the alias when you want to use a function from this module\n",
    "dice_result"
   ]
  },
  {
   "cell_type": "markdown",
   "id": "ffb4370e",
   "metadata": {},
   "source": [
    "##### loop through a list"
   ]
  },
  {
   "cell_type": "code",
   "execution_count": 5,
   "id": "c1435720",
   "metadata": {},
   "outputs": [
    {
     "name": "stdout",
     "output_type": "stream",
     "text": [
      "I love to eat apple.\n",
      "I love to eat grape.\n",
      "I love to eat orange.\n"
     ]
    }
   ],
   "source": [
    "# list is a collection of items/values/data\n",
    "fruits = [\"apple\", \"grape\", \"orange\"]\n",
    "\n",
    "for fruit in fruits:   # fruits refer to a specific list. fruit is an intermediate variable\n",
    "    print(f'I love to eat {fruit}.')\n"
   ]
  },
  {
   "cell_type": "markdown",
   "id": "db0b9690",
   "metadata": {},
   "source": [
    "##### example of pythonic code\n",
    "\n",
    "- examlple when writing a for loop with index\n",
    "- problem solve: loop through the fruits list and also print out the index for each fruit\n"
   ]
  },
  {
   "cell_type": "code",
   "execution_count": 7,
   "id": "d64b6f62",
   "metadata": {},
   "outputs": [
    {
     "name": "stdout",
     "output_type": "stream",
     "text": [
      "1. apple\n",
      "2. grape\n",
      "3. orange\n"
     ]
    }
   ],
   "source": [
    "fruits = [\"apple\", \"grape\", \"orange\"]\n",
    "for i, fruit in enumerate(fruits, 1):\n",
    "    print(f'{i}. {fruit}')"
   ]
  },
  {
   "cell_type": "markdown",
   "id": "7c98938b",
   "metadata": {},
   "source": [
    "#### Rewrite the code above without the \"enumerate\" function"
   ]
  },
  {
   "cell_type": "code",
   "execution_count": 9,
   "id": "5ba3c5fb",
   "metadata": {},
   "outputs": [
    {
     "name": "stdout",
     "output_type": "stream",
     "text": [
      "My favorite fruits are:\n",
      "1. apple\n",
      "2. grape\n",
      "3. orange\n"
     ]
    }
   ],
   "source": [
    "print(\"My favorite fruits are:\")\n",
    "fruits = [\"apple\", \"grape\", \"orange\"]\n",
    "i = 1 # index counter\n",
    "for fruit in fruits:\n",
    "    print(f'{i}. {fruit}')\n",
    "    i += 1"
   ]
  },
  {
   "cell_type": "markdown",
   "id": "ad2e9fac",
   "metadata": {},
   "source": []
  }
 ],
 "metadata": {
  "kernelspec": {
   "display_name": "Python 3",
   "language": "python",
   "name": "python3"
  },
  "language_info": {
   "codemirror_mode": {
    "name": "ipython",
    "version": 3
   },
   "file_extension": ".py",
   "mimetype": "text/x-python",
   "name": "python",
   "nbconvert_exporter": "python",
   "pygments_lexer": "ipython3",
   "version": "3.12.10"
  }
 },
 "nbformat": 4,
 "nbformat_minor": 5
}
