{
 "cells": [
  {
   "cell_type": "markdown",
   "id": "c0aa9d62",
   "metadata": {},
   "source": [
    "# Lecture 5a - if statement\n",
    "\n",
    "- one way to control the flow of running the scripts\n",
    "- use if statement for controlling the flow based on conditions"
   ]
  },
  {
   "cell_type": "markdown",
   "id": "96ce927e",
   "metadata": {},
   "source": []
  },
  {
   "cell_type": "markdown",
   "id": "84ee9034",
   "metadata": {},
   "source": [
    "Based on the user input, print message that if the user should watch a scary movie\n",
    "\n"
   ]
  },
  {
   "cell_type": "code",
   "execution_count": 1,
   "id": "7baa13b0",
   "metadata": {},
   "outputs": [
    {
     "name": "stdout",
     "output_type": "stream",
     "text": [
      "Sorry, you are too young for this scary movie\n",
      "Watch this cartoon instead\n"
     ]
    }
   ],
   "source": [
    "age = int(input(\"Enter your age: \"))\n",
    "age_limit = 15\n",
    "\n",
    "if age < age_limit:\n",
    "    print(\"Sorry, you are too young for this scary movie\")\n",
    "    print(\"Watch this cartoon instead\")\n",
    "else:\n",
    "    print(\"Enjoy this scary movie.\")"
   ]
  },
  {
   "cell_type": "markdown",
   "id": "63aca910",
   "metadata": {},
   "source": [
    "Example of more than 2 scenarios\n",
    "\n",
    "- use if,elif, else statement"
   ]
  },
  {
   "cell_type": "code",
   "execution_count": 2,
   "id": "5333f4dd",
   "metadata": {},
   "outputs": [
    {
     "name": "stdout",
     "output_type": "stream",
     "text": [
      "Take 1000 mg per day.\n"
     ]
    }
   ],
   "source": [
    "weight = float(input(\"Your weight: \"))\n",
    "\n",
    "if weight < 20:\n",
    "    print(\"Take 500 mg per day.\")\n",
    "elif weight < 40:\n",
    "    print(\"Take 750 mg per day.\")\n",
    "else:\n",
    "    print(\"Take 1000 mg per day.\")"
   ]
  },
  {
   "cell_type": "markdown",
   "id": "4832b406",
   "metadata": {},
   "source": [
    "### Operators\n",
    "#### Modulo Operator %\n",
    "\n",
    "- returns the reminder of a division\n",
    "- eg: 5 % 3 = 2  \n",
    "- eg: 9 % 3 = 0\n"
   ]
  },
  {
   "cell_type": "code",
   "execution_count": 3,
   "id": "7ac14c51",
   "metadata": {},
   "outputs": [
    {
     "name": "stdout",
     "output_type": "stream",
     "text": [
      "Odd number and the value assigned is 5\n"
     ]
    }
   ],
   "source": [
    "number = 5\n",
    "\n",
    "# check if number assigned in variable is odd / even \n",
    "if number % 2 == 0:\n",
    "    print(f\"Even number and the value assigned is {number}\")\n",
    "else:\n",
    "    print(f\"Odd number and the value assigned is {number}\")"
   ]
  },
  {
   "cell_type": "markdown",
   "id": "80e1be4b",
   "metadata": {},
   "source": [
    "### Nested if statement\n",
    "\n",
    "- when we have another if statement under a scenario\n",
    "- Think that \"if nested statements\" produces clean code"
   ]
  },
  {
   "cell_type": "code",
   "execution_count": 4,
   "id": "67ee0dee",
   "metadata": {},
   "outputs": [
    {
     "name": "stdout",
     "output_type": "stream",
     "text": [
      "This is divisible by 5. Check if divisible by 2.\n"
     ]
    }
   ],
   "source": [
    "# if a number is divisible by 5, further check if divisible by 2 (even number)\n",
    "\n",
    "# condition\n",
    "if number % 5 == 0:  \n",
    "    print(\"This is divisible by 5. Check if divisible by 2.\")\n",
    "    if number % 2 == 0:\n",
    "        print(\"This is an even number\")\n",
    "else:\n",
    "    print(\"This is not divisible by 5. No need to check more.\")\n"
   ]
  },
  {
   "cell_type": "markdown",
   "id": "8190e6ec",
   "metadata": {},
   "source": [
    "### One line if statement\n",
    "\n",
    "- Write one line code if statement, usually when refactoring (cleaning) the original if statement with multiple lines of code\n",
    "- One line if statement can make the if statement cleaner and readable\n"
   ]
  },
  {
   "cell_type": "code",
   "execution_count": 5,
   "id": "25df3c3c",
   "metadata": {},
   "outputs": [],
   "source": [
    "name = \"Olivia\"\n",
    "gender = \"female\"\n",
    "age = 7"
   ]
  },
  {
   "cell_type": "code",
   "execution_count": 6,
   "id": "d5b7408c",
   "metadata": {},
   "outputs": [
    {
     "name": "stdout",
     "output_type": "stream",
     "text": [
      "there is no 'o' in the name\n"
     ]
    }
   ],
   "source": [
    "# Check certain charavter in a string\n",
    "\n",
    "# beginner if statement\n",
    "if \"O\" in name:\n",
    "    print(\"there is no 'o' in the name\")\n"
   ]
  },
  {
   "cell_type": "code",
   "execution_count": 7,
   "id": "d3602c31",
   "metadata": {},
   "outputs": [
    {
     "name": "stdout",
     "output_type": "stream",
     "text": [
      "There is letter 'o' in the name\n"
     ]
    }
   ],
   "source": [
    "# one line if statement\n",
    "\n",
    "if \"O\" in name: print (\"There is letter 'o' in the name\")"
   ]
  },
  {
   "cell_type": "markdown",
   "id": "d835d0c0",
   "metadata": {},
   "source": [
    "### Group exercise\n",
    "\n",
    "1. Set a base price to be 10kr per apple\n",
    "2. Ask user to input wether student or pension\n",
    "3. Ask user to input quantity of apple they buy\n",
    "\n",
    "4. Use if statement to decide the final price with the discounts:\n",
    "a. 30% off for student\n",
    "b. 50% for pensioner\n",
    "\n",
    "5. Print out a text with f-string, telling the user what is the final price.\n",
    "6. Push to github.\n",
    "Solve without LLM"
   ]
  },
  {
   "cell_type": "code",
   "execution_count": 15,
   "id": "c2f6ec01",
   "metadata": {},
   "outputs": [
    {
     "name": "stdout",
     "output_type": "stream",
     "text": [
      "Purchase pieces 10 apples, 10 sek / piece\n",
      "Student: 30% discount.\n",
      "Full price: 100 sek, discount price: 70 sek\n"
     ]
    }
   ],
   "source": [
    "apple_order = int(input(\"How many apples do you buy? \"))\n",
    "print(f'Purchase pieces {apple_order} apples, 10 sek / piece')\n",
    "apple_per_piece = 10\n",
    "sum = [] \n",
    "\n",
    "customer_type = input(\"Are you a student or pensioner? 's' for student. 'p' for pensioner. 'n' for none\")\n",
    "\n",
    "if customer_type == \"s\":\n",
    "    print(\"Student: 30% discount.\")\n",
    "    apple_cost = apple_order * apple_per_piece\n",
    "    apple_cost_discount = int(apple_cost * .70)\n",
    "    print(f'Full price: {apple_cost} sek, discount price: {apple_cost_discount} sek')\n",
    "\n",
    "elif customer_type == \"p\":\n",
    "    print(\"Pensioner: 50% discount.\")\n",
    "    apple_cost = apple_order * apple_per_piece\n",
    "    apple_cost_discount = int(apple_cost * .50)\n",
    "    print(f'Full price: {apple_cost} sek, discount price: {apple_cost_discount} sek')\n",
    "\n",
    "elif customer_type == \"n\":\n",
    "    apple_cost = apple_order * apple_per_piece\n",
    "    print(f\"Full price: {apple_cost} sek.\")\n",
    "\n",
    "\n",
    "else:\n",
    "    print(\"Try order again.\")\n",
    "        "
   ]
  },
  {
   "cell_type": "code",
   "execution_count": 9,
   "id": "dc55a5a3",
   "metadata": {},
   "outputs": [
    {
     "data": {
      "text/plain": [
       "'\\napple_order = int(input(\"How many apples do you buy? \"))\\nprint(f\\'You will purchase {apple_order} apples\\')\\n\\ncustomer_type = input(\"Are you a student or pensioner? \\'s\\' for student. \\'p\\' for pensioner. \\'n\\' for none\")\\n\\nif customer_type == \"s\":\\n    print(\"You are a student. 30% discount in your whole purchase.\")\\n    apple_cost = apple_order * 10\\n    apple_cost_discount = int(apple_cost * .70)\\n    print(f\\'Full price: {apple_cost}, discount price {apple_cost_discount}\\')\\n\\nelif customer_type == \"p\":\\n    print(\"You are a pensioner 50% discount in your whole purchase.\")\\n    apple_cost = apple_order * 10\\n    apple_cost_discount = int(apple_cost * .50)\\n    print(f\\'Full price: {apple_cost}, discount price {apple_cost_discount}\\')\\n\\nelif customer_type == \"n\":\\n    apple_cost = apple_order * 10\\n    print(f\"You pay full price: {apple_cost}.\")\\n\\nelse:\\n    print(\"Try again.\")\\n    '"
      ]
     },
     "execution_count": 9,
     "metadata": {},
     "output_type": "execute_result"
    }
   ],
   "source": [
    "# one line if statement version\n",
    "'''\n",
    "apple_order = int(input(\"How many apples do you buy? \"))\n",
    "print(f'You will purchase {apple_order} apples')\n",
    "\n",
    "customer_type = input(\"Are you a student or pensioner? 's' for student. 'p' for pensioner. 'n' for none\")\n",
    "\n",
    "if customer_type == \"s\":\n",
    "    print(\"You are a student. 30% discount in your whole purchase.\")\n",
    "    apple_cost = apple_order * 10\n",
    "    apple_cost_discount = int(apple_cost * .70)\n",
    "    print(f'Full price: {apple_cost}, discount price {apple_cost_discount}')\n",
    "\n",
    "elif customer_type == \"p\":\n",
    "    print(\"You are a pensioner 50% discount in your whole purchase.\")\n",
    "    apple_cost = apple_order * 10\n",
    "    apple_cost_discount = int(apple_cost * .50)\n",
    "    print(f'Full price: {apple_cost}, discount price {apple_cost_discount}')\n",
    "\n",
    "elif customer_type == \"n\":\n",
    "    apple_cost = apple_order * 10\n",
    "    print(f\"You pay full price: {apple_cost}.\")\n",
    "\n",
    "else:\n",
    "    print(\"Try again.\")\n",
    "    '''"
   ]
  },
  {
   "cell_type": "code",
   "execution_count": null,
   "id": "2a51adb4",
   "metadata": {},
   "outputs": [],
   "source": []
  }
 ],
 "metadata": {
  "kernelspec": {
   "display_name": "Python 3",
   "language": "python",
   "name": "python3"
  },
  "language_info": {
   "codemirror_mode": {
    "name": "ipython",
    "version": 3
   },
   "file_extension": ".py",
   "mimetype": "text/x-python",
   "name": "python",
   "nbconvert_exporter": "python",
   "pygments_lexer": "ipython3",
   "version": "3.12.10"
  }
 },
 "nbformat": 4,
 "nbformat_minor": 5
}
