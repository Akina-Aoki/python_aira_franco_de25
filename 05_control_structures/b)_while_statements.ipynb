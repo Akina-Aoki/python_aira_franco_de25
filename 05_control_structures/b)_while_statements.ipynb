{
 "cells": [
  {
   "cell_type": "markdown",
   "id": "6f3362b0",
   "metadata": {},
   "source": [
    "# Lecture 5b - while loop\n",
    "\n",
    "- loop through the same block of code for several times\n",
    "- number of looping is not known when starting the while loop"
   ]
  },
  {
   "cell_type": "code",
   "execution_count": null,
   "id": "603cb56f",
   "metadata": {},
   "outputs": [
    {
     "name": "stdout",
     "output_type": "stream",
     "text": [
      "0\n",
      "2\n",
      "4\n"
     ]
    }
   ],
   "source": [
    "i = 0\n",
    "\n",
    "while i < 5:   # repeat multiple times until condition is met\n",
    "    print(i)\n",
    "    i += 2 #assignment operator: i = i+2\n",
    "    \n"
   ]
  },
  {
   "cell_type": "markdown",
   "id": "1503266e",
   "metadata": {},
   "source": [
    "#### Example of oil leakage\n",
    "\n",
    "- in year (), for beginning, we have 80,000 birds\n",
    "- due to oil leakage, 50% of birds will die every year\n",
    "- the number of dead birds is not an absolute number\n",
    "- when will the number of birds become 8,000?\n",
    "- how many years repeated to reach 8,000 birds?\n",
    "\n",
    "\n",
    "- Use while loop to find out the number of repetition."
   ]
  },
  {
   "cell_type": "code",
   "execution_count": null,
   "id": "199fe32e",
   "metadata": {},
   "outputs": [
    {
     "name": "stdout",
     "output_type": "stream",
     "text": [
      "Year 0, there were 80000 birds\n",
      "Year 1, there were 40000.0 birds\n",
      "Year 2, there were 20000.0 birds\n",
      "Year 3, there were 10000.0 birds\n"
     ]
    }
   ],
   "source": [
    "birds = 80000\n",
    "year = 0\n",
    "\n",
    "while birds > 8000:        #total of 80000 birds\n",
    "    print(f'Year {year}, there were {birds} birds')\n",
    "    birds /= 2              # 50% die every year\n",
    "    year += 1               # loop how many years it takes. increment by 1"
   ]
  },
  {
   "cell_type": "markdown",
   "id": "caa7c164",
   "metadata": {},
   "source": [
    "#### Initiate while loop and break statement\n",
    "\n",
    "- An infinite while loop condition is ALWAYS TRUE\n",
    "- Loop through the same block of codes for several times\n",
    "- Number of loopig is not known when starting a while loop\n",
    "- instead of having the condition at the end of the while loop, the condition remains, but it is evaluated within the block of codes want to be repeated\n",
    "- The motivation case: whether the condition is met will be decided during the iteration"
   ]
  },
  {
   "cell_type": "code",
   "execution_count": 4,
   "id": "10d2b920",
   "metadata": {},
   "outputs": [
    {
     "name": "stdout",
     "output_type": "stream",
     "text": [
      "0\n",
      "1\n",
      "2\n",
      "3\n",
      "4\n"
     ]
    }
   ],
   "source": [
    "# turning the sample example to an infinite while loop\n",
    "\n",
    "i = 0\n",
    "\n",
    "while True:   # run while condition is True \n",
    "    print(i)\n",
    "    i += 1    #increment by 1\n",
    "    if i >= 5:  # when i is equal to 5 or greater than 4\n",
    "        break\n"
   ]
  },
  {
   "cell_type": "code",
   "execution_count": null,
   "id": "375d1d96",
   "metadata": {},
   "outputs": [],
   "source": []
  }
 ],
 "metadata": {
  "kernelspec": {
   "display_name": ".venv",
   "language": "python",
   "name": "python3"
  },
  "language_info": {
   "codemirror_mode": {
    "name": "ipython",
    "version": 3
   },
   "file_extension": ".py",
   "mimetype": "text/x-python",
   "name": "python",
   "nbconvert_exporter": "python",
   "pygments_lexer": "ipython3",
   "version": "3.12.10"
  }
 },
 "nbformat": 4,
 "nbformat_minor": 5
}
